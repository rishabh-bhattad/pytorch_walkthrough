{
  "nbformat": 4,
  "nbformat_minor": 0,
  "metadata": {
    "colab": {
      "provenance": [],
      "authorship_tag": "ABX9TyMOVmBGPS8U/ouNyGLD2kJ4"
    },
    "kernelspec": {
      "name": "python3",
      "display_name": "Python 3"
    },
    "language_info": {
      "name": "python"
    }
  },
  "cells": [
    {
      "cell_type": "code",
      "execution_count": null,
      "metadata": {
        "colab": {
          "base_uri": "https://localhost:8080/",
          "height": 36
        },
        "id": "aHZKEPc4Olw0",
        "outputId": "de5c04ec-8010-4588-8ff1-380a1100461b"
      },
      "outputs": [
        {
          "output_type": "execute_result",
          "data": {
            "text/plain": [
              "'2.6.0+cu124'"
            ],
            "application/vnd.google.colaboratory.intrinsic+json": {
              "type": "string"
            }
          },
          "metadata": {},
          "execution_count": 4
        }
      ],
      "source": [
        "import torch\n",
        "torch.__version__"
      ]
    },
    {
      "cell_type": "code",
      "source": [
        "scalar = torch.tensor(7)\n",
        "scalar"
      ],
      "metadata": {
        "colab": {
          "base_uri": "https://localhost:8080/"
        },
        "id": "bvz3q_rHOy4A",
        "outputId": "ec775d73-ca8f-469c-d52a-c759c92a52bc"
      },
      "execution_count": null,
      "outputs": [
        {
          "output_type": "execute_result",
          "data": {
            "text/plain": [
              "tensor(7)"
            ]
          },
          "metadata": {},
          "execution_count": 5
        }
      ]
    },
    {
      "cell_type": "code",
      "source": [
        "scalar.ndim"
      ],
      "metadata": {
        "colab": {
          "base_uri": "https://localhost:8080/"
        },
        "id": "Tpeyn0JCsujy",
        "outputId": "fa055ebc-f317-435d-ff18-8142eb1d0fbe"
      },
      "execution_count": null,
      "outputs": [
        {
          "output_type": "execute_result",
          "data": {
            "text/plain": [
              "0"
            ]
          },
          "metadata": {},
          "execution_count": 6
        }
      ]
    },
    {
      "cell_type": "code",
      "source": [
        "# to retrieve the number (only works with one-element tensors)\n",
        "scalar.item()"
      ],
      "metadata": {
        "colab": {
          "base_uri": "https://localhost:8080/"
        },
        "id": "ary1O9W5s5xV",
        "outputId": "582ddba0-a612-4ed3-9d34-bc5f63b629b9"
      },
      "execution_count": null,
      "outputs": [
        {
          "output_type": "execute_result",
          "data": {
            "text/plain": [
              "7"
            ]
          },
          "metadata": {},
          "execution_count": 7
        }
      ]
    },
    {
      "cell_type": "markdown",
      "source": [
        "Vector - single dimension tensor but can contain many numbers"
      ],
      "metadata": {
        "id": "G9cxJywTtO41"
      }
    },
    {
      "cell_type": "code",
      "source": [
        "# Vector\n",
        "vector = torch.tensor([7,7])\n",
        "vector"
      ],
      "metadata": {
        "colab": {
          "base_uri": "https://localhost:8080/"
        },
        "id": "rgEFGRfctBGV",
        "outputId": "c42fcb3d-5794-420e-a89a-fd1e0a8dd117"
      },
      "execution_count": null,
      "outputs": [
        {
          "output_type": "execute_result",
          "data": {
            "text/plain": [
              "tensor([7, 7])"
            ]
          },
          "metadata": {},
          "execution_count": 8
        }
      ]
    },
    {
      "cell_type": "code",
      "source": [
        "# dim of vector\n",
        "vector.ndim"
      ],
      "metadata": {
        "colab": {
          "base_uri": "https://localhost:8080/"
        },
        "id": "t8CexgFXthw_",
        "outputId": "b35609f0-9067-4e61-9891-056ba08802bc"
      },
      "execution_count": null,
      "outputs": [
        {
          "output_type": "execute_result",
          "data": {
            "text/plain": [
              "1"
            ]
          },
          "metadata": {},
          "execution_count": 9
        }
      ]
    },
    {
      "cell_type": "markdown",
      "source": [
        "Dimensions/Rank of a tensor is basically how many indexes/numbers/variables is required to represent a single element in that tensor.\n",
        "\n",
        "For example in vectors 1 index is needed. In matrix 2 indexes are needed."
      ],
      "metadata": {
        "id": "gRa0vhActwE7"
      }
    },
    {
      "cell_type": "code",
      "source": [
        "vector.shape"
      ],
      "metadata": {
        "colab": {
          "base_uri": "https://localhost:8080/"
        },
        "id": "xjI3sCmdtnIf",
        "outputId": "d9f994f8-4ae7-407c-d4d1-e95e126dde41"
      },
      "execution_count": null,
      "outputs": [
        {
          "output_type": "execute_result",
          "data": {
            "text/plain": [
              "torch.Size([2])"
            ]
          },
          "metadata": {},
          "execution_count": 10
        }
      ]
    },
    {
      "cell_type": "code",
      "source": [
        "matrix = torch.tensor([[1, 2],\n",
        "                       [3, 4]])\n",
        "print(f\"shape: {matrix.shape}\\ndim: {matrix.ndim}\")"
      ],
      "metadata": {
        "colab": {
          "base_uri": "https://localhost:8080/"
        },
        "id": "07Wng2xZupwY",
        "outputId": "aee978b4-69dd-46e6-9934-7a3416a02cdd"
      },
      "execution_count": null,
      "outputs": [
        {
          "output_type": "stream",
          "name": "stdout",
          "text": [
            "shape: torch.Size([2, 2])\n",
            "dim: 2\n"
          ]
        }
      ]
    },
    {
      "cell_type": "code",
      "source": [
        "tensor = torch.tensor([[[1, 2, 3],\n",
        "                        [3, 6, 9],\n",
        "                        [2, 4, 5]]])\n",
        "print(f\"shape: {tensor.shape}\\ndim: {tensor.ndim}\")"
      ],
      "metadata": {
        "colab": {
          "base_uri": "https://localhost:8080/"
        },
        "id": "cVcbD1o9vNuN",
        "outputId": "dcfabd8e-3870-4d9c-e5dd-34a597de6681"
      },
      "execution_count": null,
      "outputs": [
        {
          "output_type": "stream",
          "name": "stdout",
          "text": [
            "shape: torch.Size([1, 3, 3])\n",
            "dim: 3\n"
          ]
        }
      ]
    },
    {
      "cell_type": "code",
      "source": [
        "T2 = torch.ones([2,2,3,4,5])\n",
        "print(f\"shape: {T2.shape}\\ndim: {T2.ndim}\")\n",
        "print(T2)"
      ],
      "metadata": {
        "colab": {
          "base_uri": "https://localhost:8080/"
        },
        "id": "ehj1crIkvivY",
        "outputId": "44dc18c3-5a4c-4fa1-b7ea-1726009dfd7a"
      },
      "execution_count": null,
      "outputs": [
        {
          "output_type": "stream",
          "name": "stdout",
          "text": [
            "shape: torch.Size([2, 2, 3, 4, 5])\n",
            "dim: 5\n",
            "tensor([[[[[1., 1., 1., 1., 1.],\n",
            "           [1., 1., 1., 1., 1.],\n",
            "           [1., 1., 1., 1., 1.],\n",
            "           [1., 1., 1., 1., 1.]],\n",
            "\n",
            "          [[1., 1., 1., 1., 1.],\n",
            "           [1., 1., 1., 1., 1.],\n",
            "           [1., 1., 1., 1., 1.],\n",
            "           [1., 1., 1., 1., 1.]],\n",
            "\n",
            "          [[1., 1., 1., 1., 1.],\n",
            "           [1., 1., 1., 1., 1.],\n",
            "           [1., 1., 1., 1., 1.],\n",
            "           [1., 1., 1., 1., 1.]]],\n",
            "\n",
            "\n",
            "         [[[1., 1., 1., 1., 1.],\n",
            "           [1., 1., 1., 1., 1.],\n",
            "           [1., 1., 1., 1., 1.],\n",
            "           [1., 1., 1., 1., 1.]],\n",
            "\n",
            "          [[1., 1., 1., 1., 1.],\n",
            "           [1., 1., 1., 1., 1.],\n",
            "           [1., 1., 1., 1., 1.],\n",
            "           [1., 1., 1., 1., 1.]],\n",
            "\n",
            "          [[1., 1., 1., 1., 1.],\n",
            "           [1., 1., 1., 1., 1.],\n",
            "           [1., 1., 1., 1., 1.],\n",
            "           [1., 1., 1., 1., 1.]]]],\n",
            "\n",
            "\n",
            "\n",
            "        [[[[1., 1., 1., 1., 1.],\n",
            "           [1., 1., 1., 1., 1.],\n",
            "           [1., 1., 1., 1., 1.],\n",
            "           [1., 1., 1., 1., 1.]],\n",
            "\n",
            "          [[1., 1., 1., 1., 1.],\n",
            "           [1., 1., 1., 1., 1.],\n",
            "           [1., 1., 1., 1., 1.],\n",
            "           [1., 1., 1., 1., 1.]],\n",
            "\n",
            "          [[1., 1., 1., 1., 1.],\n",
            "           [1., 1., 1., 1., 1.],\n",
            "           [1., 1., 1., 1., 1.],\n",
            "           [1., 1., 1., 1., 1.]]],\n",
            "\n",
            "\n",
            "         [[[1., 1., 1., 1., 1.],\n",
            "           [1., 1., 1., 1., 1.],\n",
            "           [1., 1., 1., 1., 1.],\n",
            "           [1., 1., 1., 1., 1.]],\n",
            "\n",
            "          [[1., 1., 1., 1., 1.],\n",
            "           [1., 1., 1., 1., 1.],\n",
            "           [1., 1., 1., 1., 1.],\n",
            "           [1., 1., 1., 1., 1.]],\n",
            "\n",
            "          [[1., 1., 1., 1., 1.],\n",
            "           [1., 1., 1., 1., 1.],\n",
            "           [1., 1., 1., 1., 1.],\n",
            "           [1., 1., 1., 1., 1.]]]]])\n"
          ]
        }
      ]
    },
    {
      "cell_type": "markdown",
      "source": [
        "Instead, a machine learning model often starts out with large random tensors of numbers and adjusts these random numbers as it works through data to better represent it.\n",
        "\n",
        "In essence:\n",
        "\n",
        "Start with random numbers -> look at data -> update random numbers -> look at data -> update random numbers...\n",
        "\n",
        "As a data scientist, we can define how the machine learning model starts (initialization), looks at data (representation) and updates (optimization) its random numbers.\n",
        "\n",
        "We can do so using torch.rand() and passing in the size parameter."
      ],
      "metadata": {
        "id": "Ao6z8-vwwnNN"
      }
    },
    {
      "cell_type": "code",
      "source": [
        "random_tensor = torch.rand((3,4))\n",
        "# random_tensor = torch.rand(size = (3,4)) # Same as above\n",
        "random_tensor"
      ],
      "metadata": {
        "colab": {
          "base_uri": "https://localhost:8080/"
        },
        "id": "VDmbTdssv8yw",
        "outputId": "ce075887-ed91-4bc0-9b1f-34b4e750cb68"
      },
      "execution_count": null,
      "outputs": [
        {
          "output_type": "execute_result",
          "data": {
            "text/plain": [
              "tensor([[0.2255, 0.7078, 0.0169, 0.5432],\n",
              "        [0.2049, 0.1635, 0.0883, 0.5343],\n",
              "        [0.7533, 0.1039, 0.5510, 0.5057]])"
            ]
          },
          "metadata": {},
          "execution_count": 14
        }
      ]
    },
    {
      "cell_type": "markdown",
      "source": [
        "Creating tensor like a range() in python"
      ],
      "metadata": {
        "id": "3vf_WxEcxa8M"
      }
    },
    {
      "cell_type": "code",
      "source": [
        "one_to_ten_tensor = torch.arange(start=1, end=11, step=1)\n",
        "one_to_ten_tensor"
      ],
      "metadata": {
        "colab": {
          "base_uri": "https://localhost:8080/"
        },
        "id": "o9_lmjTIw2N9",
        "outputId": "37846d19-821d-4aba-cab5-1c0346805065"
      },
      "execution_count": null,
      "outputs": [
        {
          "output_type": "execute_result",
          "data": {
            "text/plain": [
              "tensor([ 1,  2,  3,  4,  5,  6,  7,  8,  9, 10])"
            ]
          },
          "metadata": {},
          "execution_count": 15
        }
      ]
    },
    {
      "cell_type": "code",
      "source": [
        "# creating tensors alike\n",
        "ten_zeroes = torch.zeros_like(one_to_ten_tensor)\n",
        "ten_zeroes"
      ],
      "metadata": {
        "colab": {
          "base_uri": "https://localhost:8080/"
        },
        "id": "RytMctRw4RxS",
        "outputId": "405a5a15-57c1-4be7-a754-e42d06515f45"
      },
      "execution_count": null,
      "outputs": [
        {
          "output_type": "execute_result",
          "data": {
            "text/plain": [
              "tensor([0, 0, 0, 0, 0, 0, 0, 0, 0, 0])"
            ]
          },
          "metadata": {},
          "execution_count": 16
        }
      ]
    },
    {
      "cell_type": "markdown",
      "source": [
        "## Tensor Datatypes\n",
        "\n",
        "Tensor datatypes is 3 one of the 3 big issues we run into:\n",
        "1. Tensors not right dtype\n",
        "2. Tensors not right shape\n",
        "3. Tensors not on the right device"
      ],
      "metadata": {
        "id": "MCwHEphD9VfZ"
      }
    },
    {
      "cell_type": "code",
      "source": [
        "float_32_tensor = torch.tensor([3.0, 6.0, 9.0],\n",
        "                               dtype=None, # What datatype is the tensor , can define explicitly\n",
        "                               device=None, # basically can select cuda, cpu, tpu\n",
        "                               requires_grad=False) # whether or not to track gradient with tensors operations\n",
        "float_32_tensor.dtype"
      ],
      "metadata": {
        "colab": {
          "base_uri": "https://localhost:8080/"
        },
        "id": "j34zFWYP9UN6",
        "outputId": "80a0213c-256a-499a-f9a9-9ce3e189df9f"
      },
      "execution_count": null,
      "outputs": [
        {
          "output_type": "execute_result",
          "data": {
            "text/plain": [
              "torch.float32"
            ]
          },
          "metadata": {},
          "execution_count": 17
        }
      ]
    },
    {
      "cell_type": "code",
      "source": [
        "float_16_tensor = float_32_tensor.type(torch.float16)\n",
        "float_16_tensor"
      ],
      "metadata": {
        "colab": {
          "base_uri": "https://localhost:8080/"
        },
        "id": "B6zYt0Di9uW7",
        "outputId": "ec0fbc1f-b9fe-4e86-a05d-d1e244b1dca8"
      },
      "execution_count": null,
      "outputs": [
        {
          "output_type": "execute_result",
          "data": {
            "text/plain": [
              "tensor([3., 6., 9.], dtype=torch.float16)"
            ]
          },
          "metadata": {},
          "execution_count": 18
        }
      ]
    },
    {
      "cell_type": "code",
      "source": [
        "float_16_tensor * float_32_tensor # No error. But some operations will result in error because not in right dtype"
      ],
      "metadata": {
        "colab": {
          "base_uri": "https://localhost:8080/"
        },
        "id": "gCVYYSkdMtQ8",
        "outputId": "8e19a31b-8e54-4491-e92c-f6e3d7609f17"
      },
      "execution_count": null,
      "outputs": [
        {
          "output_type": "execute_result",
          "data": {
            "text/plain": [
              "tensor([ 9., 36., 81.])"
            ]
          },
          "metadata": {},
          "execution_count": 19
        }
      ]
    },
    {
      "cell_type": "code",
      "source": [
        "int_32_tensor = torch.tensor([3, 6, 9], dtype=torch.int32)\n",
        "int_32_tensor"
      ],
      "metadata": {
        "colab": {
          "base_uri": "https://localhost:8080/"
        },
        "id": "a28yajcqM5uP",
        "outputId": "558800d6-a23f-4847-c903-0999b1fe8e52"
      },
      "execution_count": null,
      "outputs": [
        {
          "output_type": "execute_result",
          "data": {
            "text/plain": [
              "tensor([3, 6, 9], dtype=torch.int32)"
            ]
          },
          "metadata": {},
          "execution_count": 20
        }
      ]
    },
    {
      "cell_type": "code",
      "source": [
        "float_32_tensor * int_32_tensor"
      ],
      "metadata": {
        "colab": {
          "base_uri": "https://localhost:8080/"
        },
        "id": "5i89kRUDNRFq",
        "outputId": "a670dc6c-bfc4-46d0-8865-18785d72db3d"
      },
      "execution_count": null,
      "outputs": [
        {
          "output_type": "execute_result",
          "data": {
            "text/plain": [
              "tensor([ 9., 36., 81.])"
            ]
          },
          "metadata": {},
          "execution_count": 21
        }
      ]
    },
    {
      "cell_type": "markdown",
      "source": [
        "### Getting information from tensors (attributes)\n",
        "\n",
        "1. To get datatype from a tensor, can use tensor.dtype\n",
        "2. to get shape, tensor.shape\n",
        "3. to get device from a tensor, tensor.device"
      ],
      "metadata": {
        "id": "YJ999k9yNTh-"
      }
    },
    {
      "cell_type": "code",
      "source": [
        "# ctreate a tensor\n",
        "some_tensor = torch.rand(3,4)\n",
        "some_tensor"
      ],
      "metadata": {
        "colab": {
          "base_uri": "https://localhost:8080/"
        },
        "id": "MPkpY6KhOWk5",
        "outputId": "c2ef975b-17fc-42ad-9ac9-38e5075a5a9b"
      },
      "execution_count": null,
      "outputs": [
        {
          "output_type": "execute_result",
          "data": {
            "text/plain": [
              "tensor([[0.6058, 0.6315, 0.8657, 0.6027],\n",
              "        [0.1208, 0.8500, 0.3479, 0.6399],\n",
              "        [0.2699, 0.5262, 0.5136, 0.9910]])"
            ]
          },
          "metadata": {},
          "execution_count": 22
        }
      ]
    },
    {
      "cell_type": "code",
      "source": [
        "print(some_tensor)\n",
        "print(f\"Datatype: {some_tensor.dtype}\")\n",
        "print(f\"Shape: {some_tensor.shape}\")\n",
        "print(f\"Shape: {some_tensor.size()}\") # same thing as tensor.shape\n",
        "print(f\"Device: {some_tensor.device}\")"
      ],
      "metadata": {
        "colab": {
          "base_uri": "https://localhost:8080/"
        },
        "id": "vQ6MuYlYOk3x",
        "outputId": "c127c287-b562-421d-8d3b-f695863c0376"
      },
      "execution_count": null,
      "outputs": [
        {
          "output_type": "stream",
          "name": "stdout",
          "text": [
            "tensor([[0.6058, 0.6315, 0.8657, 0.6027],\n",
            "        [0.1208, 0.8500, 0.3479, 0.6399],\n",
            "        [0.2699, 0.5262, 0.5136, 0.9910]])\n",
            "Datatype: torch.float32\n",
            "Shape: torch.Size([3, 4])\n",
            "Shape: torch.Size([3, 4])\n",
            "Device: cpu\n"
          ]
        }
      ]
    },
    {
      "cell_type": "markdown",
      "source": [
        "### Manipulating Tensors (tensor operations)\n",
        "\n",
        "tensor operations include:\n",
        "* Add\n",
        "* Sub\n",
        "* Mult (element wise)\n",
        "* Div\n",
        "* Matrix Mult"
      ],
      "metadata": {
        "id": "xFa1WakDO4df"
      }
    },
    {
      "cell_type": "code",
      "source": [
        "# Create a sample tensors\n",
        "tensor = torch.tensor([1, 2, 3])\n",
        "tensor + 10"
      ],
      "metadata": {
        "colab": {
          "base_uri": "https://localhost:8080/"
        },
        "id": "wl7oeEh3PuAe",
        "outputId": "06056865-4e24-4897-ca70-915fad69ae3d"
      },
      "execution_count": null,
      "outputs": [
        {
          "output_type": "execute_result",
          "data": {
            "text/plain": [
              "tensor([11, 12, 13])"
            ]
          },
          "metadata": {},
          "execution_count": 24
        }
      ]
    },
    {
      "cell_type": "code",
      "source": [
        "# Mult\n",
        "tensor * 10"
      ],
      "metadata": {
        "colab": {
          "base_uri": "https://localhost:8080/"
        },
        "id": "eqTKoPD7P5vG",
        "outputId": "a969b5e9-8716-4473-c6ae-1905d0046fd7"
      },
      "execution_count": null,
      "outputs": [
        {
          "output_type": "execute_result",
          "data": {
            "text/plain": [
              "tensor([10, 20, 30])"
            ]
          },
          "metadata": {},
          "execution_count": 25
        }
      ]
    },
    {
      "cell_type": "code",
      "source": [
        "# Sub\n",
        "tensor - 10"
      ],
      "metadata": {
        "colab": {
          "base_uri": "https://localhost:8080/"
        },
        "id": "pLdxvTkiP_3S",
        "outputId": "b7a5b1da-4a4c-4923-de5e-b7f7ac2756c4"
      },
      "execution_count": null,
      "outputs": [
        {
          "output_type": "execute_result",
          "data": {
            "text/plain": [
              "tensor([-9, -8, -7])"
            ]
          },
          "metadata": {},
          "execution_count": 26
        }
      ]
    },
    {
      "cell_type": "code",
      "source": [
        "torch.mul(tensor, 10)"
      ],
      "metadata": {
        "colab": {
          "base_uri": "https://localhost:8080/"
        },
        "id": "A8Dwm47VQOj7",
        "outputId": "7de5ad06-001c-4168-ed49-6c676dad60a0"
      },
      "execution_count": null,
      "outputs": [
        {
          "output_type": "execute_result",
          "data": {
            "text/plain": [
              "tensor([10, 20, 30])"
            ]
          },
          "metadata": {},
          "execution_count": 27
        }
      ]
    },
    {
      "cell_type": "markdown",
      "source": [
        "### Matrix mult\n",
        "\n",
        "2 main ways to perform multiplication in NN and DL.\n",
        "1. Element-wise\n",
        "2. Matrix Mult (dot prodcut)"
      ],
      "metadata": {
        "id": "jdbBN1iLQT78"
      }
    },
    {
      "cell_type": "code",
      "source": [
        "# Element wise\n",
        "%%time\n",
        "print(tensor * tensor)"
      ],
      "metadata": {
        "colab": {
          "base_uri": "https://localhost:8080/"
        },
        "id": "Eg0Yp0qmQ-gW",
        "outputId": "4d3b46f3-dffb-43e3-944c-494d57dfc83f"
      },
      "execution_count": null,
      "outputs": [
        {
          "output_type": "stream",
          "name": "stdout",
          "text": [
            "tensor([1, 4, 9])\n",
            "CPU times: user 1.5 ms, sys: 90 µs, total: 1.59 ms\n",
            "Wall time: 2.23 ms\n"
          ]
        }
      ]
    },
    {
      "cell_type": "code",
      "source": [
        "# Matrix mult\n",
        "%%time\n",
        "torch.matmul(tensor, tensor) # can also do `tensor @ tensor`"
      ],
      "metadata": {
        "colab": {
          "base_uri": "https://localhost:8080/"
        },
        "id": "MG1BgIWARbV5",
        "outputId": "0af99a01-9f20-430d-cc04-df5697a3cc44"
      },
      "execution_count": null,
      "outputs": [
        {
          "output_type": "stream",
          "name": "stdout",
          "text": [
            "CPU times: user 0 ns, sys: 803 µs, total: 803 µs\n",
            "Wall time: 9.36 ms\n"
          ]
        },
        {
          "output_type": "execute_result",
          "data": {
            "text/plain": [
              "tensor(14)"
            ]
          },
          "metadata": {},
          "execution_count": 29
        }
      ]
    },
    {
      "cell_type": "code",
      "source": [
        "torch.matmul(torch.rand(3, 2), torch.rand(2, 3))"
      ],
      "metadata": {
        "colab": {
          "base_uri": "https://localhost:8080/"
        },
        "id": "SYMixYe9Ri6r",
        "outputId": "130c2b84-a5fe-482c-e227-738d1313848c"
      },
      "execution_count": null,
      "outputs": [
        {
          "output_type": "execute_result",
          "data": {
            "text/plain": [
              "tensor([[0.3974, 0.2813, 0.2206],\n",
              "        [0.5106, 0.5658, 0.2291],\n",
              "        [0.4469, 0.5243, 0.1928]])"
            ]
          },
          "metadata": {},
          "execution_count": 30
        }
      ]
    },
    {
      "cell_type": "code",
      "source": [
        "# Shapes for matrix multiplication\n",
        "# Shapes need to be in the right way\n",
        "tensor_A = torch.tensor([[1, 2],\n",
        "                         [3, 4],\n",
        "                         [5, 6]], dtype=torch.float32)\n",
        "\n",
        "tensor_B = torch.tensor([[7, 10],\n",
        "                         [8, 11],\n",
        "                         [9, 12]], dtype=torch.float32)\n",
        "\n",
        "torch.matmul(tensor_A, tensor_B) # (this will error)"
      ],
      "metadata": {
        "colab": {
          "base_uri": "https://localhost:8080/",
          "height": 176
        },
        "id": "xSi9ixodZq1c",
        "outputId": "c0d38198-fd95-4f2a-d95b-09d7db8a27c4"
      },
      "execution_count": null,
      "outputs": [
        {
          "output_type": "error",
          "ename": "RuntimeError",
          "evalue": "mat1 and mat2 shapes cannot be multiplied (3x2 and 3x2)",
          "traceback": [
            "\u001b[0;31m---------------------------------------------------------------------------\u001b[0m",
            "\u001b[0;31mRuntimeError\u001b[0m                              Traceback (most recent call last)",
            "\u001b[0;32m<ipython-input-32-2200340114>\u001b[0m in \u001b[0;36m<cell line: 0>\u001b[0;34m()\u001b[0m\n\u001b[1;32m      9\u001b[0m                          [9, 12]], dtype=torch.float32)\n\u001b[1;32m     10\u001b[0m \u001b[0;34m\u001b[0m\u001b[0m\n\u001b[0;32m---> 11\u001b[0;31m \u001b[0mtorch\u001b[0m\u001b[0;34m.\u001b[0m\u001b[0mmatmul\u001b[0m\u001b[0;34m(\u001b[0m\u001b[0mtensor_A\u001b[0m\u001b[0;34m,\u001b[0m \u001b[0mtensor_B\u001b[0m\u001b[0;34m)\u001b[0m \u001b[0;31m# (this will error)\u001b[0m\u001b[0;34m\u001b[0m\u001b[0;34m\u001b[0m\u001b[0m\n\u001b[0m",
            "\u001b[0;31mRuntimeError\u001b[0m: mat1 and mat2 shapes cannot be multiplied (3x2 and 3x2)"
          ]
        }
      ]
    },
    {
      "cell_type": "markdown",
      "source": [
        "To fix this issue. We take transpose of B."
      ],
      "metadata": {
        "id": "AZ5ELMRld1vv"
      }
    },
    {
      "cell_type": "code",
      "source": [
        "# View tensor_A and tensor_B\n",
        "print(tensor_A)\n",
        "print(tensor_B)\n",
        "\n",
        "# View tensor_A and tensor_B.T\n",
        "print(tensor_A)\n",
        "print(tensor_B.T)\n",
        "\n",
        "torch.mm(tensor_A, tensor_B.T)"
      ],
      "metadata": {
        "colab": {
          "base_uri": "https://localhost:8080/"
        },
        "id": "tXDa8vgZdbq8",
        "outputId": "c4e03423-1115-47e1-b38e-1f6d7d3fdd0a"
      },
      "execution_count": null,
      "outputs": [
        {
          "output_type": "stream",
          "name": "stdout",
          "text": [
            "tensor([[1., 2.],\n",
            "        [3., 4.],\n",
            "        [5., 6.]])\n",
            "tensor([[ 7., 10.],\n",
            "        [ 8., 11.],\n",
            "        [ 9., 12.]])\n",
            "tensor([[1., 2.],\n",
            "        [3., 4.],\n",
            "        [5., 6.]])\n",
            "tensor([[ 7.,  8.,  9.],\n",
            "        [10., 11., 12.]])\n"
          ]
        },
        {
          "output_type": "execute_result",
          "data": {
            "text/plain": [
              "tensor([[ 27.,  30.,  33.],\n",
              "        [ 61.,  68.,  75.],\n",
              "        [ 95., 106., 117.]])"
            ]
          },
          "metadata": {},
          "execution_count": 33
        }
      ]
    },
    {
      "cell_type": "markdown",
      "source": [
        "## Finding the min. max, mean etc (tensor aggregation)"
      ],
      "metadata": {
        "id": "o6YVzcK2dmmN"
      }
    },
    {
      "cell_type": "code",
      "source": [
        "x = torch.arange(0, 100, 10)"
      ],
      "metadata": {
        "id": "9E0fm03Jq4wW"
      },
      "execution_count": null,
      "outputs": []
    },
    {
      "cell_type": "code",
      "source": [
        "# Min\n",
        "torch.min(x), x.min()"
      ],
      "metadata": {
        "colab": {
          "base_uri": "https://localhost:8080/"
        },
        "id": "dDyRJcPKrA4m",
        "outputId": "290d23e3-18b7-4a71-f8f0-f0d39fcdd780"
      },
      "execution_count": null,
      "outputs": [
        {
          "output_type": "execute_result",
          "data": {
            "text/plain": [
              "(tensor(0), tensor(0))"
            ]
          },
          "metadata": {},
          "execution_count": 35
        }
      ]
    },
    {
      "cell_type": "code",
      "source": [
        "# Max\n",
        "torch.max(x), x.max()"
      ],
      "metadata": {
        "colab": {
          "base_uri": "https://localhost:8080/"
        },
        "id": "efIwEq2IrLcn",
        "outputId": "d140939d-8e71-49f4-b0dd-92e18d49c83e"
      },
      "execution_count": null,
      "outputs": [
        {
          "output_type": "execute_result",
          "data": {
            "text/plain": [
              "(tensor(90), tensor(90))"
            ]
          },
          "metadata": {},
          "execution_count": 36
        }
      ]
    },
    {
      "cell_type": "code",
      "source": [
        "# Find the mean\n",
        "torch.mean(x) # Dtype error. It is Long."
      ],
      "metadata": {
        "colab": {
          "base_uri": "https://localhost:8080/",
          "height": 158
        },
        "id": "d6DtMXBNrTf7",
        "outputId": "398376e6-0874-4f26-a85f-9658084a5700"
      },
      "execution_count": null,
      "outputs": [
        {
          "output_type": "error",
          "ename": "RuntimeError",
          "evalue": "mean(): could not infer output dtype. Input dtype must be either a floating point or complex dtype. Got: Long",
          "traceback": [
            "\u001b[0;31m---------------------------------------------------------------------------\u001b[0m",
            "\u001b[0;31mRuntimeError\u001b[0m                              Traceback (most recent call last)",
            "\u001b[0;32m<ipython-input-37-3132782926>\u001b[0m in \u001b[0;36m<cell line: 0>\u001b[0;34m()\u001b[0m\n\u001b[1;32m      1\u001b[0m \u001b[0;31m# Find the mean\u001b[0m\u001b[0;34m\u001b[0m\u001b[0;34m\u001b[0m\u001b[0m\n\u001b[0;32m----> 2\u001b[0;31m \u001b[0mtorch\u001b[0m\u001b[0;34m.\u001b[0m\u001b[0mmean\u001b[0m\u001b[0;34m(\u001b[0m\u001b[0mx\u001b[0m\u001b[0;34m)\u001b[0m \u001b[0;31m# Dtype error. It is Long.\u001b[0m\u001b[0;34m\u001b[0m\u001b[0;34m\u001b[0m\u001b[0m\n\u001b[0m",
            "\u001b[0;31mRuntimeError\u001b[0m: mean(): could not infer output dtype. Input dtype must be either a floating point or complex dtype. Got: Long"
          ]
        }
      ]
    },
    {
      "cell_type": "code",
      "source": [
        "# torch.mean() func require a tensor of float32 Dtype to work\n",
        "torch.mean(x.type(torch.float32)), x.type(torch.float32).mean()"
      ],
      "metadata": {
        "colab": {
          "base_uri": "https://localhost:8080/"
        },
        "id": "sOHcdxParcmz",
        "outputId": "fdd34433-4c75-44cf-d16a-08b7c7895c19"
      },
      "execution_count": null,
      "outputs": [
        {
          "output_type": "execute_result",
          "data": {
            "text/plain": [
              "(tensor(45.), tensor(45.))"
            ]
          },
          "metadata": {},
          "execution_count": 38
        }
      ]
    },
    {
      "cell_type": "code",
      "source": [
        "# Sum\n",
        "torch.sum(x), x.sum()\n",
        "x = x + 1"
      ],
      "metadata": {
        "colab": {
          "base_uri": "https://localhost:8080/"
        },
        "id": "KoxN9Hl3rv6K",
        "outputId": "e9c01d6f-27a5-423b-ed7d-1017011776d0"
      },
      "execution_count": null,
      "outputs": [
        {
          "output_type": "execute_result",
          "data": {
            "text/plain": [
              "(tensor(450), tensor(450))"
            ]
          },
          "metadata": {},
          "execution_count": 39
        }
      ]
    },
    {
      "cell_type": "code",
      "source": [
        "# Find the position with min/max vlaue\n",
        "# Min value postion\n",
        "print(x.argmin()) # o/p is 0\n",
        "\n",
        "print(x[x.argmin()]) # o/p is 1\n",
        "\n",
        "# Max value postn\n",
        "print(x.argmax())\n",
        "print(x[x.argmax()])"
      ],
      "metadata": {
        "id": "KM1pgBqGsEdS",
        "colab": {
          "base_uri": "https://localhost:8080/"
        },
        "outputId": "aef0595c-1e6a-488a-b603-20958b39f382"
      },
      "execution_count": null,
      "outputs": [
        {
          "output_type": "stream",
          "name": "stdout",
          "text": [
            "tensor(0)\n",
            "tensor(1)\n",
            "tensor(9)\n",
            "tensor(91)\n"
          ]
        }
      ]
    },
    {
      "cell_type": "markdown",
      "source": [
        "## Reshaping, squeezing and unsqueezing tensors\n",
        "\n",
        "* Reshaping - Reshaping an i/p tensor to a defined shape.\n",
        "* View - Return a view of an i/p tensor of certain shape but keep same memory as original tensor\n",
        "* Stacking - Combine multiple tensors on top or side by side.\n",
        "* Squeeze - Removes all `1` from a tensor\n",
        "* Unsqueeze - Add a `1` dimension to a target tensor\n",
        "* Permute - Return a view of the i/p with dimensions permuted (swapped) in a certain way\n"
      ],
      "metadata": {
        "id": "2fChC_ifEy9z"
      }
    },
    {
      "cell_type": "code",
      "source": [
        "x = torch.arange(1., 10.)"
      ],
      "metadata": {
        "id": "YsDKfIe-HfZE"
      },
      "execution_count": null,
      "outputs": []
    },
    {
      "cell_type": "code",
      "source": [
        "x_reshaped = x.reshape(3, 3) # other shapes which can work is (1, 9) or (9, 1)\n",
        "print(x_reshaped)\n"
      ],
      "metadata": {
        "colab": {
          "base_uri": "https://localhost:8080/"
        },
        "id": "QzT04aLQHsMo",
        "outputId": "fd121666-1311-4a8a-effd-b799f3b11a38"
      },
      "execution_count": null,
      "outputs": [
        {
          "output_type": "execute_result",
          "data": {
            "text/plain": [
              "tensor([[1., 2., 3.],\n",
              "        [4., 5., 6.],\n",
              "        [7., 8., 9.]])"
            ]
          },
          "metadata": {},
          "execution_count": 46
        }
      ]
    },
    {
      "cell_type": "code",
      "source": [
        "# Change the view\n",
        "z = x.view(3, 3)\n",
        "z # The view shares the memory with the x. So chaning z changes x and vice versa."
      ],
      "metadata": {
        "colab": {
          "base_uri": "https://localhost:8080/"
        },
        "id": "Mc2RCxBPH0Ji",
        "outputId": "40785f25-d0b5-43c8-df80-8681c85ef5ae"
      },
      "execution_count": null,
      "outputs": [
        {
          "output_type": "execute_result",
          "data": {
            "text/plain": [
              "tensor([[1., 2., 3.],\n",
              "        [4., 5., 6.],\n",
              "        [7., 8., 9.]])"
            ]
          },
          "metadata": {},
          "execution_count": 48
        }
      ]
    },
    {
      "cell_type": "code",
      "source": [
        "z[:, 0] = 5\n",
        "z, x"
      ],
      "metadata": {
        "colab": {
          "base_uri": "https://localhost:8080/"
        },
        "id": "8_f5io89In1C",
        "outputId": "d792ba78-7919-4617-f190-b7fff0585677"
      },
      "execution_count": null,
      "outputs": [
        {
          "output_type": "execute_result",
          "data": {
            "text/plain": [
              "(tensor([[5., 2., 3.],\n",
              "         [5., 5., 6.],\n",
              "         [5., 8., 9.]]),\n",
              " tensor([5., 2., 3., 5., 5., 6., 5., 8., 9.]))"
            ]
          },
          "metadata": {},
          "execution_count": 50
        }
      ]
    },
    {
      "cell_type": "code",
      "source": [
        "# Stacking tensors on top\n",
        "x_stacked = torch.stack([x, x], dim=0)\n",
        "x_stacked"
      ],
      "metadata": {
        "colab": {
          "base_uri": "https://localhost:8080/"
        },
        "id": "vFqERwd9JCtu",
        "outputId": "1b4cab8e-810b-4e67-de19-0509fe4a069b"
      },
      "execution_count": 54,
      "outputs": [
        {
          "output_type": "execute_result",
          "data": {
            "text/plain": [
              "tensor([[5., 2., 3., 5., 5., 6., 5., 8., 9.],\n",
              "        [5., 2., 3., 5., 5., 6., 5., 8., 9.]])"
            ]
          },
          "metadata": {},
          "execution_count": 54
        }
      ]
    },
    {
      "cell_type": "code",
      "source": [
        "# Squeeze and unsqueeze\n",
        "x_new = torch.zeros(2, 1, 2, 1, 2)\n",
        "x_new"
      ],
      "metadata": {
        "id": "T7Ctu4xwJji6",
        "colab": {
          "base_uri": "https://localhost:8080/"
        },
        "outputId": "d6dd51bc-174d-49c8-a017-d6147f63e832"
      },
      "execution_count": 58,
      "outputs": [
        {
          "output_type": "execute_result",
          "data": {
            "text/plain": [
              "tensor([[[[[0., 0.]],\n",
              "\n",
              "          [[0., 0.]]]],\n",
              "\n",
              "\n",
              "\n",
              "        [[[[0., 0.]],\n",
              "\n",
              "          [[0., 0.]]]]])"
            ]
          },
          "metadata": {},
          "execution_count": 58
        }
      ]
    },
    {
      "cell_type": "code",
      "source": [
        "x_squeezed = x_new.squeeze()\n",
        "x_squeezed, x_squeezed.shape, x_new"
      ],
      "metadata": {
        "colab": {
          "base_uri": "https://localhost:8080/"
        },
        "id": "qhrCUS4aK4pU",
        "outputId": "af555f63-f423-4e30-e61e-ce92f4e4234e"
      },
      "execution_count": 62,
      "outputs": [
        {
          "output_type": "execute_result",
          "data": {
            "text/plain": [
              "(tensor([[[0., 0.],\n",
              "          [0., 0.]],\n",
              " \n",
              "         [[0., 0.],\n",
              "          [0., 0.]]]),\n",
              " torch.Size([2, 2, 2]),\n",
              " tensor([[[[[0., 0.]],\n",
              " \n",
              "           [[0., 0.]]]],\n",
              " \n",
              " \n",
              " \n",
              "         [[[[0., 0.]],\n",
              " \n",
              "           [[0., 0.]]]]]))"
            ]
          },
          "metadata": {},
          "execution_count": 62
        }
      ]
    },
    {
      "cell_type": "code",
      "source": [
        "# Unsqueeze - adds a single dimension to a target tensor at a specific dim\n",
        "print(f\"Previous tensor: {x_squeezed}\\n\")\n",
        "print(f\"Previous Shape: {x_squeezed.shape}\\n\")\n",
        "x_unsqueezed = x_squeezed.unsqueeze(dim=1)\n",
        "\n",
        "print(f\"New Tensor: {x_unsqueezed}\\n\")\n",
        "print(f\"New shape: {x_unsqueezed.shape}\")"
      ],
      "metadata": {
        "colab": {
          "base_uri": "https://localhost:8080/"
        },
        "id": "JjGEN_fELbCO",
        "outputId": "bcb77d26-7fbb-4938-bba7-10a560029224"
      },
      "execution_count": 64,
      "outputs": [
        {
          "output_type": "stream",
          "name": "stdout",
          "text": [
            "Previous tensor: tensor([[[0., 0.],\n",
            "         [0., 0.]],\n",
            "\n",
            "        [[0., 0.],\n",
            "         [0., 0.]]])\n",
            "\n",
            "Previous Shape: torch.Size([2, 2, 2])\n",
            "\n",
            "New Tensor: tensor([[[[0., 0.],\n",
            "          [0., 0.]]],\n",
            "\n",
            "\n",
            "        [[[0., 0.],\n",
            "          [0., 0.]]]])\n",
            "\n",
            "New shape: torch.Size([2, 1, 2, 2])\n"
          ]
        }
      ]
    },
    {
      "cell_type": "code",
      "source": [
        "x_unsqueezed = x_squeezed.unsqueeze(dim=2)\n",
        "\n",
        "print(f\"New Tensor: {x_unsqueezed}\\n\")\n",
        "print(f\"New shape: {x_unsqueezed.shape}\")"
      ],
      "metadata": {
        "colab": {
          "base_uri": "https://localhost:8080/"
        },
        "id": "hRLskRnaTIWi",
        "outputId": "d9bc7640-2a62-41fa-e38f-89f8df3160f9"
      },
      "execution_count": 67,
      "outputs": [
        {
          "output_type": "stream",
          "name": "stdout",
          "text": [
            "New Tensor: tensor([[[[0., 0.]],\n",
            "\n",
            "         [[0., 0.]]],\n",
            "\n",
            "\n",
            "        [[[0., 0.]],\n",
            "\n",
            "         [[0., 0.]]]])\n",
            "\n",
            "New shape: torch.Size([2, 2, 1, 2])\n"
          ]
        }
      ]
    },
    {
      "cell_type": "code",
      "source": [
        "# Permute - rearranges the dimensions of a target tensor in a specificed order\n",
        "x_original = torch.rand((224, 224, 3))\n",
        "print(x_original.shape)\n",
        "# Permute the original tensor to rearrange the axis\n",
        "x_permuted = x_original.permute(2, 0, 1) # shift axis to 0->1, 1->2, 2->0\n",
        "print(x_permuted.shape) # permute function basically returns a view. SO any changes will be reflected in the permuted tensor"
      ],
      "metadata": {
        "colab": {
          "base_uri": "https://localhost:8080/"
        },
        "id": "sxhpbqzwTYpE",
        "outputId": "42803b0d-5278-438d-bda4-6fed463440a2"
      },
      "execution_count": 68,
      "outputs": [
        {
          "output_type": "stream",
          "name": "stdout",
          "text": [
            "torch.Size([224, 224, 3])\n",
            "torch.Size([3, 224, 224])\n"
          ]
        }
      ]
    },
    {
      "cell_type": "code",
      "source": [
        "x_original[0, 0, 0] = 184981\n",
        "x_original[0, 0, 0], x_permuted[0, 0, 0]"
      ],
      "metadata": {
        "colab": {
          "base_uri": "https://localhost:8080/"
        },
        "id": "-gKzryOLUb-D",
        "outputId": "e30d78df-74c2-4c12-aca6-44fe948bcec5"
      },
      "execution_count": 69,
      "outputs": [
        {
          "output_type": "execute_result",
          "data": {
            "text/plain": [
              "(tensor(184981.), tensor(184981.))"
            ]
          },
          "metadata": {},
          "execution_count": 69
        }
      ]
    },
    {
      "cell_type": "markdown",
      "source": [
        "## Indexing\n",
        "indexing with pytorch is very similar to numpy/pandas"
      ],
      "metadata": {
        "id": "x9qu-qM4Z0_f"
      }
    },
    {
      "cell_type": "code",
      "source": [
        "x = torch.arange(1, 10).reshape(1, 3, 3)\n",
        "x"
      ],
      "metadata": {
        "colab": {
          "base_uri": "https://localhost:8080/"
        },
        "id": "DulBL6-saCdE",
        "outputId": "dc7fd326-2fa3-4a9f-d04f-cb880d9a9268"
      },
      "execution_count": 70,
      "outputs": [
        {
          "output_type": "execute_result",
          "data": {
            "text/plain": [
              "tensor([[[1, 2, 3],\n",
              "         [4, 5, 6],\n",
              "         [7, 8, 9]]])"
            ]
          },
          "metadata": {},
          "execution_count": 70
        }
      ]
    },
    {
      "cell_type": "code",
      "source": [
        "x[0]"
      ],
      "metadata": {
        "colab": {
          "base_uri": "https://localhost:8080/"
        },
        "id": "3I6lOgKcaJ2i",
        "outputId": "8e525279-6497-463d-b77d-ba69fe0b5ef8"
      },
      "execution_count": 71,
      "outputs": [
        {
          "output_type": "execute_result",
          "data": {
            "text/plain": [
              "tensor([[1, 2, 3],\n",
              "        [4, 5, 6],\n",
              "        [7, 8, 9]])"
            ]
          },
          "metadata": {},
          "execution_count": 71
        }
      ]
    },
    {
      "cell_type": "code",
      "source": [
        "x[0][1], x[0, 1] # Same"
      ],
      "metadata": {
        "colab": {
          "base_uri": "https://localhost:8080/"
        },
        "id": "1RtPWu-DaT5k",
        "outputId": "4840df6b-c9c5-425d-ba72-f08741dfd78a"
      },
      "execution_count": 74,
      "outputs": [
        {
          "output_type": "execute_result",
          "data": {
            "text/plain": [
              "(tensor([4, 5, 6]), tensor([4, 5, 6]))"
            ]
          },
          "metadata": {},
          "execution_count": 74
        }
      ]
    },
    {
      "cell_type": "code",
      "source": [],
      "metadata": {
        "id": "6rMaao0uaWcy"
      },
      "execution_count": null,
      "outputs": []
    }
  ]
}