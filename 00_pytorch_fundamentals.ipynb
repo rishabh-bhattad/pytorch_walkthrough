{
  "nbformat": 4,
  "nbformat_minor": 0,
  "metadata": {
    "colab": {
      "provenance": [],
      "authorship_tag": "ABX9TyOsNSE7iJ5wZDfeWlOjN6sd"
    },
    "kernelspec": {
      "name": "python3",
      "display_name": "Python 3"
    },
    "language_info": {
      "name": "python"
    }
  },
  "cells": [
    {
      "cell_type": "code",
      "execution_count": null,
      "metadata": {
        "colab": {
          "base_uri": "https://localhost:8080/",
          "height": 36
        },
        "id": "aHZKEPc4Olw0",
        "outputId": "e8674f98-e05e-4672-9f21-e0070a74ddb9"
      },
      "outputs": [
        {
          "output_type": "execute_result",
          "data": {
            "text/plain": [
              "'2.6.0+cu124'"
            ],
            "application/vnd.google.colaboratory.intrinsic+json": {
              "type": "string"
            }
          },
          "metadata": {},
          "execution_count": 2
        }
      ],
      "source": [
        "import torch\n",
        "torch.__version__"
      ]
    },
    {
      "cell_type": "code",
      "source": [
        "scalar = torch.tensor(7)\n",
        "scalar"
      ],
      "metadata": {
        "colab": {
          "base_uri": "https://localhost:8080/"
        },
        "id": "bvz3q_rHOy4A",
        "outputId": "14637037-55fe-4225-c002-9ace3326afe0"
      },
      "execution_count": null,
      "outputs": [
        {
          "output_type": "execute_result",
          "data": {
            "text/plain": [
              "tensor(7)"
            ]
          },
          "metadata": {},
          "execution_count": 3
        }
      ]
    },
    {
      "cell_type": "code",
      "source": [
        "scalar.ndim"
      ],
      "metadata": {
        "colab": {
          "base_uri": "https://localhost:8080/"
        },
        "id": "Tpeyn0JCsujy",
        "outputId": "2db1ecff-c48f-4c2c-d096-b94b9dde11c0"
      },
      "execution_count": null,
      "outputs": [
        {
          "output_type": "execute_result",
          "data": {
            "text/plain": [
              "0"
            ]
          },
          "metadata": {},
          "execution_count": 4
        }
      ]
    },
    {
      "cell_type": "code",
      "source": [
        "# to retrieve the number (only works with one-element tensors)\n",
        "scalar.item()"
      ],
      "metadata": {
        "colab": {
          "base_uri": "https://localhost:8080/"
        },
        "id": "ary1O9W5s5xV",
        "outputId": "3b640c7f-956f-4efe-f150-81cdcd439302"
      },
      "execution_count": null,
      "outputs": [
        {
          "output_type": "stream",
          "name": "stdout",
          "text": [
            "tensor(7)\n"
          ]
        }
      ]
    },
    {
      "cell_type": "markdown",
      "source": [
        "Vector - single dimension tensor but can contain many numbers"
      ],
      "metadata": {
        "id": "G9cxJywTtO41"
      }
    },
    {
      "cell_type": "code",
      "source": [
        "# Vector\n",
        "vector = torch.tensor([7,7])\n",
        "vector"
      ],
      "metadata": {
        "colab": {
          "base_uri": "https://localhost:8080/"
        },
        "id": "rgEFGRfctBGV",
        "outputId": "da604aea-50df-47d5-b23d-bb7556942dc7"
      },
      "execution_count": null,
      "outputs": [
        {
          "output_type": "execute_result",
          "data": {
            "text/plain": [
              "tensor([7, 7])"
            ]
          },
          "metadata": {},
          "execution_count": 7
        }
      ]
    },
    {
      "cell_type": "code",
      "source": [
        "# dim of vector\n",
        "vector.ndim"
      ],
      "metadata": {
        "colab": {
          "base_uri": "https://localhost:8080/"
        },
        "id": "t8CexgFXthw_",
        "outputId": "78decef0-6016-4dfa-a46a-e19c0cff7642"
      },
      "execution_count": null,
      "outputs": [
        {
          "output_type": "execute_result",
          "data": {
            "text/plain": [
              "1"
            ]
          },
          "metadata": {},
          "execution_count": 8
        }
      ]
    },
    {
      "cell_type": "markdown",
      "source": [
        "Dimensions/Rank of a tensor is basically how many indexes/numbers/variables is required to represent a single element in that tensor.\n",
        "\n",
        "For example in vectors 1 index is needed. In matrix 2 indexes are needed."
      ],
      "metadata": {
        "id": "gRa0vhActwE7"
      }
    },
    {
      "cell_type": "code",
      "source": [
        "vector.shape"
      ],
      "metadata": {
        "colab": {
          "base_uri": "https://localhost:8080/"
        },
        "id": "xjI3sCmdtnIf",
        "outputId": "05960c20-7277-47d6-880e-cb0aaef17be2"
      },
      "execution_count": null,
      "outputs": [
        {
          "output_type": "execute_result",
          "data": {
            "text/plain": [
              "torch.Size([2])"
            ]
          },
          "metadata": {},
          "execution_count": 9
        }
      ]
    },
    {
      "cell_type": "code",
      "source": [
        "matrix = torch.tensor([[1, 2],\n",
        "                       [3, 4]])\n",
        "print(f\"shape: {matrix.shape}\\ndim: {matrix.ndim}\")"
      ],
      "metadata": {
        "colab": {
          "base_uri": "https://localhost:8080/"
        },
        "id": "07Wng2xZupwY",
        "outputId": "ddc9d855-fcaa-4cb6-bc5a-655d274cd076"
      },
      "execution_count": null,
      "outputs": [
        {
          "output_type": "stream",
          "name": "stdout",
          "text": [
            "shape: torch.Size([2, 2])\n",
            "dim: 2\n"
          ]
        }
      ]
    },
    {
      "cell_type": "code",
      "source": [
        "tensor = torch.tensor([[[1, 2, 3],\n",
        "                        [3, 6, 9],\n",
        "                        [2, 4, 5]]])\n",
        "print(f\"shape: {tensor.shape}\\ndim: {tensor.ndim}\")"
      ],
      "metadata": {
        "colab": {
          "base_uri": "https://localhost:8080/"
        },
        "id": "cVcbD1o9vNuN",
        "outputId": "a6b74195-8d99-40f1-c04f-0e2fe23456ae"
      },
      "execution_count": null,
      "outputs": [
        {
          "output_type": "stream",
          "name": "stdout",
          "text": [
            "shape: torch.Size([1, 3, 3])\n",
            "dim: 3\n"
          ]
        }
      ]
    },
    {
      "cell_type": "code",
      "source": [
        "T2 = torch.ones([2,2,3,4,5])\n",
        "print(f\"shape: {T2.shape}\\ndim: {T2.ndim}\")\n",
        "print(T2)"
      ],
      "metadata": {
        "colab": {
          "base_uri": "https://localhost:8080/"
        },
        "id": "ehj1crIkvivY",
        "outputId": "38157707-d496-4bdf-94de-8a2ea095da8a"
      },
      "execution_count": null,
      "outputs": [
        {
          "output_type": "stream",
          "name": "stdout",
          "text": [
            "shape: torch.Size([2, 2, 3, 4, 5])\n",
            "dim: 5\n",
            "tensor([[[[[1., 1., 1., 1., 1.],\n",
            "           [1., 1., 1., 1., 1.],\n",
            "           [1., 1., 1., 1., 1.],\n",
            "           [1., 1., 1., 1., 1.]],\n",
            "\n",
            "          [[1., 1., 1., 1., 1.],\n",
            "           [1., 1., 1., 1., 1.],\n",
            "           [1., 1., 1., 1., 1.],\n",
            "           [1., 1., 1., 1., 1.]],\n",
            "\n",
            "          [[1., 1., 1., 1., 1.],\n",
            "           [1., 1., 1., 1., 1.],\n",
            "           [1., 1., 1., 1., 1.],\n",
            "           [1., 1., 1., 1., 1.]]],\n",
            "\n",
            "\n",
            "         [[[1., 1., 1., 1., 1.],\n",
            "           [1., 1., 1., 1., 1.],\n",
            "           [1., 1., 1., 1., 1.],\n",
            "           [1., 1., 1., 1., 1.]],\n",
            "\n",
            "          [[1., 1., 1., 1., 1.],\n",
            "           [1., 1., 1., 1., 1.],\n",
            "           [1., 1., 1., 1., 1.],\n",
            "           [1., 1., 1., 1., 1.]],\n",
            "\n",
            "          [[1., 1., 1., 1., 1.],\n",
            "           [1., 1., 1., 1., 1.],\n",
            "           [1., 1., 1., 1., 1.],\n",
            "           [1., 1., 1., 1., 1.]]]],\n",
            "\n",
            "\n",
            "\n",
            "        [[[[1., 1., 1., 1., 1.],\n",
            "           [1., 1., 1., 1., 1.],\n",
            "           [1., 1., 1., 1., 1.],\n",
            "           [1., 1., 1., 1., 1.]],\n",
            "\n",
            "          [[1., 1., 1., 1., 1.],\n",
            "           [1., 1., 1., 1., 1.],\n",
            "           [1., 1., 1., 1., 1.],\n",
            "           [1., 1., 1., 1., 1.]],\n",
            "\n",
            "          [[1., 1., 1., 1., 1.],\n",
            "           [1., 1., 1., 1., 1.],\n",
            "           [1., 1., 1., 1., 1.],\n",
            "           [1., 1., 1., 1., 1.]]],\n",
            "\n",
            "\n",
            "         [[[1., 1., 1., 1., 1.],\n",
            "           [1., 1., 1., 1., 1.],\n",
            "           [1., 1., 1., 1., 1.],\n",
            "           [1., 1., 1., 1., 1.]],\n",
            "\n",
            "          [[1., 1., 1., 1., 1.],\n",
            "           [1., 1., 1., 1., 1.],\n",
            "           [1., 1., 1., 1., 1.],\n",
            "           [1., 1., 1., 1., 1.]],\n",
            "\n",
            "          [[1., 1., 1., 1., 1.],\n",
            "           [1., 1., 1., 1., 1.],\n",
            "           [1., 1., 1., 1., 1.],\n",
            "           [1., 1., 1., 1., 1.]]]]])\n"
          ]
        }
      ]
    },
    {
      "cell_type": "markdown",
      "source": [
        "Instead, a machine learning model often starts out with large random tensors of numbers and adjusts these random numbers as it works through data to better represent it.\n",
        "\n",
        "In essence:\n",
        "\n",
        "Start with random numbers -> look at data -> update random numbers -> look at data -> update random numbers...\n",
        "\n",
        "As a data scientist, we can define how the machine learning model starts (initialization), looks at data (representation) and updates (optimization) its random numbers.\n",
        "\n",
        "We can do so using torch.rand() and passing in the size parameter."
      ],
      "metadata": {
        "id": "Ao6z8-vwwnNN"
      }
    },
    {
      "cell_type": "code",
      "source": [
        "random_tensor = torch.rand((3,4))\n",
        "# random_tensor = torch.rand(size = (3,4)) # Same as above\n",
        "random_tensor"
      ],
      "metadata": {
        "colab": {
          "base_uri": "https://localhost:8080/"
        },
        "id": "VDmbTdssv8yw",
        "outputId": "04ba93aa-30cb-4623-f18c-42d81b555105"
      },
      "execution_count": null,
      "outputs": [
        {
          "output_type": "execute_result",
          "data": {
            "text/plain": [
              "tensor([[0.7242, 0.3444, 0.5939, 0.4513],\n",
              "        [0.4947, 0.9167, 0.0257, 0.0883],\n",
              "        [0.7106, 0.0778, 0.7522, 0.9024]])"
            ]
          },
          "metadata": {},
          "execution_count": 18
        }
      ]
    },
    {
      "cell_type": "markdown",
      "source": [
        "Creating tensor like a range() in python"
      ],
      "metadata": {
        "id": "3vf_WxEcxa8M"
      }
    },
    {
      "cell_type": "code",
      "source": [
        "one_to_ten_tensor = torch.arange(start=1, end=11, step=1)\n",
        "one_to_ten_tensor"
      ],
      "metadata": {
        "colab": {
          "base_uri": "https://localhost:8080/"
        },
        "id": "o9_lmjTIw2N9",
        "outputId": "1e004d5e-d74b-46cd-c764-24c0072b6014"
      },
      "execution_count": null,
      "outputs": [
        {
          "output_type": "execute_result",
          "data": {
            "text/plain": [
              "tensor([ 1,  2,  3,  4,  5,  6,  7,  8,  9, 10])"
            ]
          },
          "metadata": {},
          "execution_count": 24
        }
      ]
    },
    {
      "cell_type": "code",
      "source": [
        "# creating tensors alike\n",
        "ten_zeroes = torch.zeros_like(one_to_ten_tensor)\n",
        "ten_zeroes"
      ],
      "metadata": {
        "colab": {
          "base_uri": "https://localhost:8080/"
        },
        "id": "RytMctRw4RxS",
        "outputId": "50174409-2f6b-4e75-caf6-9c2812ce0e8e"
      },
      "execution_count": null,
      "outputs": [
        {
          "output_type": "execute_result",
          "data": {
            "text/plain": [
              "tensor([0, 0, 0, 0, 0, 0, 0, 0, 0, 0])"
            ]
          },
          "metadata": {},
          "execution_count": 25
        }
      ]
    },
    {
      "cell_type": "markdown",
      "source": [
        "## Tensor Datatypes\n",
        "\n",
        "Tensor datatypes is 3 one of the 3 big issues we run into:\n",
        "1. Tensors not right dtype\n",
        "2. Tensors not right shape\n",
        "3. Tensors not on the right device"
      ],
      "metadata": {
        "id": "MCwHEphD9VfZ"
      }
    },
    {
      "cell_type": "code",
      "source": [
        "float_32_tensor = torch.tensor([3.0, 6.0, 9.0],\n",
        "                               dtype=None, # What datatype is the tensor , can define explicitly\n",
        "                               device=None, # basically can select cuda, cpu, tpu\n",
        "                               requires_grad=False) # whether or not to track gradient with tensors operations\n",
        "float_32_tensor.dtype"
      ],
      "metadata": {
        "colab": {
          "base_uri": "https://localhost:8080/"
        },
        "id": "j34zFWYP9UN6",
        "outputId": "83f11ef3-01f2-4be3-b62f-ece08c0e30e3"
      },
      "execution_count": null,
      "outputs": [
        {
          "output_type": "execute_result",
          "data": {
            "text/plain": [
              "torch.float32"
            ]
          },
          "metadata": {},
          "execution_count": 34
        }
      ]
    },
    {
      "cell_type": "code",
      "source": [
        "float_16_tensor = float_32_tensor.type(torch.float16)\n",
        "float_16_tensor"
      ],
      "metadata": {
        "colab": {
          "base_uri": "https://localhost:8080/"
        },
        "id": "B6zYt0Di9uW7",
        "outputId": "2be04264-71cf-46c4-9f40-7039f04c4abb"
      },
      "execution_count": null,
      "outputs": [
        {
          "output_type": "execute_result",
          "data": {
            "text/plain": [
              "tensor([3., 6., 9.], dtype=torch.float16)"
            ]
          },
          "metadata": {},
          "execution_count": 37
        }
      ]
    },
    {
      "cell_type": "code",
      "source": [
        "float_16_tensor * float_32_tensor # No error. But some operations will result in error because not in right dtype"
      ],
      "metadata": {
        "colab": {
          "base_uri": "https://localhost:8080/"
        },
        "id": "gCVYYSkdMtQ8",
        "outputId": "11274515-7264-457f-c28f-e57a7b65bb0f"
      },
      "execution_count": null,
      "outputs": [
        {
          "output_type": "execute_result",
          "data": {
            "text/plain": [
              "tensor([ 9., 36., 81.])"
            ]
          },
          "metadata": {},
          "execution_count": 36
        }
      ]
    },
    {
      "cell_type": "code",
      "source": [
        "int_32_tensor = torch.tensor([3, 6, 9], dtype=torch.int32)\n",
        "int_32_tensor"
      ],
      "metadata": {
        "colab": {
          "base_uri": "https://localhost:8080/"
        },
        "id": "a28yajcqM5uP",
        "outputId": "9bf628e2-748e-4ac4-ddf9-feb71d93466f"
      },
      "execution_count": null,
      "outputs": [
        {
          "output_type": "execute_result",
          "data": {
            "text/plain": [
              "tensor([3, 6, 9], dtype=torch.int32)"
            ]
          },
          "metadata": {},
          "execution_count": 38
        }
      ]
    },
    {
      "cell_type": "code",
      "source": [
        "float_32_tensor * int_32_tensor"
      ],
      "metadata": {
        "colab": {
          "base_uri": "https://localhost:8080/"
        },
        "id": "5i89kRUDNRFq",
        "outputId": "35332740-d042-461c-d373-99f064c2c07a"
      },
      "execution_count": null,
      "outputs": [
        {
          "output_type": "execute_result",
          "data": {
            "text/plain": [
              "tensor([ 9., 36., 81.])"
            ]
          },
          "metadata": {},
          "execution_count": 39
        }
      ]
    },
    {
      "cell_type": "markdown",
      "source": [
        "### Getting information from tensors (attributes)\n",
        "\n",
        "1. To get datatype from a tensor, can use tensor.dtype\n",
        "2. to get shape, tensor.shape\n",
        "3. to get device from a tensor, tensor.device"
      ],
      "metadata": {
        "id": "YJ999k9yNTh-"
      }
    },
    {
      "cell_type": "code",
      "source": [
        "# ctreate a tensor\n",
        "some_tensor = torch.rand(3,4)\n",
        "some_tensor"
      ],
      "metadata": {
        "colab": {
          "base_uri": "https://localhost:8080/"
        },
        "id": "MPkpY6KhOWk5",
        "outputId": "38e24762-3f16-4dca-d6fd-3d0251b66b4e"
      },
      "execution_count": null,
      "outputs": [
        {
          "output_type": "execute_result",
          "data": {
            "text/plain": [
              "tensor([[0.5823, 0.7248, 0.2341, 0.9191],\n",
              "        [0.9856, 0.2722, 0.3052, 0.4297],\n",
              "        [0.0259, 0.3869, 0.2264, 0.3602]])"
            ]
          },
          "metadata": {},
          "execution_count": 40
        }
      ]
    },
    {
      "cell_type": "code",
      "source": [
        "print(some_tensor)\n",
        "print(f\"Datatype: {some_tensor.dtype}\")\n",
        "print(f\"Shape: {some_tensor.shape}\")\n",
        "print(f\"Shape: {some_tensor.size()}\") # same thing as tensor.shape\n",
        "print(f\"Device: {some_tensor.device}\")"
      ],
      "metadata": {
        "colab": {
          "base_uri": "https://localhost:8080/"
        },
        "id": "vQ6MuYlYOk3x",
        "outputId": "ad0e8a2d-f1e4-4cf7-ac68-e3d59e8aa738"
      },
      "execution_count": null,
      "outputs": [
        {
          "output_type": "stream",
          "name": "stdout",
          "text": [
            "tensor([[0.5823, 0.7248, 0.2341, 0.9191],\n",
            "        [0.9856, 0.2722, 0.3052, 0.4297],\n",
            "        [0.0259, 0.3869, 0.2264, 0.3602]])\n",
            "Datatype: torch.float32\n",
            "Shape: torch.Size([3, 4])\n",
            "Shape: torch.Size([3, 4])\n",
            "Device: cpu\n"
          ]
        }
      ]
    },
    {
      "cell_type": "markdown",
      "source": [
        "### Manipulating Tensors (tensor operations)\n",
        "\n",
        "tensor operations include:\n",
        "* Add\n",
        "* Sub\n",
        "* Mult (element wise)\n",
        "* Div\n",
        "* Matrix Mult"
      ],
      "metadata": {
        "id": "xFa1WakDO4df"
      }
    },
    {
      "cell_type": "code",
      "source": [
        "# Create a sample tensors\n",
        "tensor = torch.tensor([1, 2, 3])\n",
        "tensor + 10"
      ],
      "metadata": {
        "colab": {
          "base_uri": "https://localhost:8080/"
        },
        "id": "wl7oeEh3PuAe",
        "outputId": "f0472241-3ce8-4e07-d249-b21370d8cc85"
      },
      "execution_count": null,
      "outputs": [
        {
          "output_type": "execute_result",
          "data": {
            "text/plain": [
              "tensor([11, 12, 13])"
            ]
          },
          "metadata": {},
          "execution_count": 44
        }
      ]
    },
    {
      "cell_type": "code",
      "source": [
        "# Mult\n",
        "tensor * 10"
      ],
      "metadata": {
        "colab": {
          "base_uri": "https://localhost:8080/"
        },
        "id": "eqTKoPD7P5vG",
        "outputId": "e30fbe52-c951-4433-d1f4-a911378db310"
      },
      "execution_count": null,
      "outputs": [
        {
          "output_type": "execute_result",
          "data": {
            "text/plain": [
              "tensor([10, 20, 30])"
            ]
          },
          "metadata": {},
          "execution_count": 45
        }
      ]
    },
    {
      "cell_type": "code",
      "source": [
        "# Sub\n",
        "tensor - 10"
      ],
      "metadata": {
        "colab": {
          "base_uri": "https://localhost:8080/"
        },
        "id": "pLdxvTkiP_3S",
        "outputId": "70a7fef0-1cae-4697-8585-bef590057a2a"
      },
      "execution_count": null,
      "outputs": [
        {
          "output_type": "execute_result",
          "data": {
            "text/plain": [
              "tensor([-9, -8, -7])"
            ]
          },
          "metadata": {},
          "execution_count": 46
        }
      ]
    },
    {
      "cell_type": "code",
      "source": [
        "torch.mul(tensor, 10)"
      ],
      "metadata": {
        "colab": {
          "base_uri": "https://localhost:8080/"
        },
        "id": "A8Dwm47VQOj7",
        "outputId": "ac30f48c-fa40-4461-cd9e-e3cd3a5016b8"
      },
      "execution_count": null,
      "outputs": [
        {
          "output_type": "execute_result",
          "data": {
            "text/plain": [
              "tensor([10, 20, 30])"
            ]
          },
          "metadata": {},
          "execution_count": 47
        }
      ]
    },
    {
      "cell_type": "markdown",
      "source": [
        "### Matrix mult\n",
        "\n",
        "2 main ways to perform multiplication in NN and DL.\n",
        "1. Element-wise\n",
        "2. Matrix Mult (dot prodcut)"
      ],
      "metadata": {
        "id": "jdbBN1iLQT78"
      }
    },
    {
      "cell_type": "code",
      "source": [
        "# Element wise\n",
        "%%time\n",
        "print(tensor * tensor)"
      ],
      "metadata": {
        "colab": {
          "base_uri": "https://localhost:8080/"
        },
        "id": "Eg0Yp0qmQ-gW",
        "outputId": "98b40777-3b4b-4176-ca18-18b7de903b39"
      },
      "execution_count": null,
      "outputs": [
        {
          "output_type": "stream",
          "name": "stdout",
          "text": [
            "tensor([1, 4, 9])\n",
            "CPU times: user 1.61 ms, sys: 33 µs, total: 1.64 ms\n",
            "Wall time: 1.48 ms\n"
          ]
        }
      ]
    },
    {
      "cell_type": "code",
      "source": [
        "# Matrix mult\n",
        "%%time\n",
        "torch.matmul(tensor, tensor) # can also do `tensor @ tensor`"
      ],
      "metadata": {
        "colab": {
          "base_uri": "https://localhost:8080/"
        },
        "id": "MG1BgIWARbV5",
        "outputId": "15e3f9ab-b4df-467e-98ce-53ed07397dcb"
      },
      "execution_count": null,
      "outputs": [
        {
          "output_type": "stream",
          "name": "stdout",
          "text": [
            "CPU times: user 558 µs, sys: 0 ns, total: 558 µs\n",
            "Wall time: 454 µs\n"
          ]
        },
        {
          "output_type": "execute_result",
          "data": {
            "text/plain": [
              "tensor(14)"
            ]
          },
          "metadata": {},
          "execution_count": 51
        }
      ]
    },
    {
      "cell_type": "code",
      "source": [
        "torch.matmul(torch.rand(3, 2), torch.rand(2, 3))"
      ],
      "metadata": {
        "colab": {
          "base_uri": "https://localhost:8080/"
        },
        "id": "SYMixYe9Ri6r",
        "outputId": "54cb931b-3cec-4e9f-c1f0-34665a2d6cb2"
      },
      "execution_count": null,
      "outputs": [
        {
          "output_type": "execute_result",
          "data": {
            "text/plain": [
              "tensor([[0.8098, 0.8096, 0.6596],\n",
              "        [1.2280, 0.5469, 0.4932],\n",
              "        [1.4420, 0.9030, 0.7734]])"
            ]
          },
          "metadata": {},
          "execution_count": 54
        }
      ]
    },
    {
      "cell_type": "code",
      "source": [
        "# Shapes for matrix multiplication\n",
        "# Shapes need to be in the right way\n",
        "tensor_A = torch.tensor([[1, 2],\n",
        "                         [3, 4],\n",
        "                         [5, 6]], dtype=torch.float32)\n",
        "\n",
        "tensor_B = torch.tensor([[7, 10],\n",
        "                         [8, 11],\n",
        "                         [9, 12]], dtype=torch.float32)\n",
        "\n",
        "torch.matmul(tensor_A, tensor_B) # (this will error)"
      ],
      "metadata": {
        "colab": {
          "base_uri": "https://localhost:8080/",
          "height": 176
        },
        "id": "xSi9ixodZq1c",
        "outputId": "2c1cad15-0253-4968-c302-2e4d10a4253c"
      },
      "execution_count": null,
      "outputs": [
        {
          "output_type": "error",
          "ename": "RuntimeError",
          "evalue": "mat1 and mat2 shapes cannot be multiplied (3x2 and 3x2)",
          "traceback": [
            "\u001b[0;31m---------------------------------------------------------------------------\u001b[0m",
            "\u001b[0;31mRuntimeError\u001b[0m                              Traceback (most recent call last)",
            "\u001b[0;32m<ipython-input-55-2804462574>\u001b[0m in \u001b[0;36m<cell line: 0>\u001b[0;34m()\u001b[0m\n\u001b[1;32m      9\u001b[0m                          [9, 12]], dtype=torch.float32)\n\u001b[1;32m     10\u001b[0m \u001b[0;34m\u001b[0m\u001b[0m\n\u001b[0;32m---> 11\u001b[0;31m \u001b[0mtorch\u001b[0m\u001b[0;34m.\u001b[0m\u001b[0mmatmul\u001b[0m\u001b[0;34m(\u001b[0m\u001b[0mtensor_A\u001b[0m\u001b[0;34m,\u001b[0m \u001b[0mtensor_B\u001b[0m\u001b[0;34m)\u001b[0m \u001b[0;31m# (this will error)\u001b[0m\u001b[0;34m\u001b[0m\u001b[0;34m\u001b[0m\u001b[0m\n\u001b[0m",
            "\u001b[0;31mRuntimeError\u001b[0m: mat1 and mat2 shapes cannot be multiplied (3x2 and 3x2)"
          ]
        }
      ]
    },
    {
      "cell_type": "markdown",
      "source": [
        "To fix this issue. We take transpose of B."
      ],
      "metadata": {
        "id": "AZ5ELMRld1vv"
      }
    },
    {
      "cell_type": "code",
      "source": [
        "# View tensor_A and tensor_B\n",
        "print(tensor_A)\n",
        "print(tensor_B)\n",
        "\n",
        "# View tensor_A and tensor_B.T\n",
        "print(tensor_A)\n",
        "print(tensor_B.T)\n",
        "\n",
        "torch.mm(tensor_A, tensor_B.T)"
      ],
      "metadata": {
        "colab": {
          "base_uri": "https://localhost:8080/"
        },
        "id": "tXDa8vgZdbq8",
        "outputId": "ae9fdca7-fc73-4194-fa22-fa7eae41f3ed"
      },
      "execution_count": null,
      "outputs": [
        {
          "output_type": "stream",
          "name": "stdout",
          "text": [
            "tensor([[1., 2.],\n",
            "        [3., 4.],\n",
            "        [5., 6.]])\n",
            "tensor([[ 7., 10.],\n",
            "        [ 8., 11.],\n",
            "        [ 9., 12.]])\n",
            "tensor([[1., 2.],\n",
            "        [3., 4.],\n",
            "        [5., 6.]])\n",
            "tensor([[ 7.,  8.,  9.],\n",
            "        [10., 11., 12.]])\n"
          ]
        },
        {
          "output_type": "execute_result",
          "data": {
            "text/plain": [
              "tensor([[ 27.,  30.,  33.],\n",
              "        [ 61.,  68.,  75.],\n",
              "        [ 95., 106., 117.]])"
            ]
          },
          "metadata": {},
          "execution_count": 56
        }
      ]
    },
    {
      "cell_type": "markdown",
      "source": [
        "## Finding the min. max, mean etc (tensor aggregation)"
      ],
      "metadata": {
        "id": "o6YVzcK2dmmN"
      }
    },
    {
      "cell_type": "code",
      "source": [
        "x = torch.arange(0, 100, 10)"
      ],
      "metadata": {
        "id": "9E0fm03Jq4wW"
      },
      "execution_count": null,
      "outputs": []
    },
    {
      "cell_type": "code",
      "source": [
        "# Min\n",
        "torch.min(x), x.min()"
      ],
      "metadata": {
        "colab": {
          "base_uri": "https://localhost:8080/"
        },
        "id": "dDyRJcPKrA4m",
        "outputId": "59b4d268-b825-4a12-b0b9-28b1cc0ef83d"
      },
      "execution_count": null,
      "outputs": [
        {
          "output_type": "execute_result",
          "data": {
            "text/plain": [
              "(tensor(0), tensor(0))"
            ]
          },
          "metadata": {},
          "execution_count": 60
        }
      ]
    },
    {
      "cell_type": "code",
      "source": [
        "# Max\n",
        "torch.max(x), x.max()"
      ],
      "metadata": {
        "colab": {
          "base_uri": "https://localhost:8080/"
        },
        "id": "efIwEq2IrLcn",
        "outputId": "07a7aae1-71e4-466a-a4be-3eccd4a7de5b"
      },
      "execution_count": null,
      "outputs": [
        {
          "output_type": "execute_result",
          "data": {
            "text/plain": [
              "(tensor(90), tensor(90))"
            ]
          },
          "metadata": {},
          "execution_count": 61
        }
      ]
    },
    {
      "cell_type": "code",
      "source": [
        "# Find the mean\n",
        "torch.mean(x) # Dtype error. It is Long."
      ],
      "metadata": {
        "colab": {
          "base_uri": "https://localhost:8080/",
          "height": 158
        },
        "id": "d6DtMXBNrTf7",
        "outputId": "2666d2b4-595a-4960-ef50-e60dc1f9e1ae"
      },
      "execution_count": null,
      "outputs": [
        {
          "output_type": "error",
          "ename": "RuntimeError",
          "evalue": "mean(): could not infer output dtype. Input dtype must be either a floating point or complex dtype. Got: Long",
          "traceback": [
            "\u001b[0;31m---------------------------------------------------------------------------\u001b[0m",
            "\u001b[0;31mRuntimeError\u001b[0m                              Traceback (most recent call last)",
            "\u001b[0;32m<ipython-input-62-3436686223>\u001b[0m in \u001b[0;36m<cell line: 0>\u001b[0;34m()\u001b[0m\n\u001b[1;32m      1\u001b[0m \u001b[0;31m# Find the mean\u001b[0m\u001b[0;34m\u001b[0m\u001b[0;34m\u001b[0m\u001b[0m\n\u001b[0;32m----> 2\u001b[0;31m \u001b[0mtorch\u001b[0m\u001b[0;34m.\u001b[0m\u001b[0mmean\u001b[0m\u001b[0;34m(\u001b[0m\u001b[0mx\u001b[0m\u001b[0;34m)\u001b[0m\u001b[0;34m\u001b[0m\u001b[0;34m\u001b[0m\u001b[0m\n\u001b[0m",
            "\u001b[0;31mRuntimeError\u001b[0m: mean(): could not infer output dtype. Input dtype must be either a floating point or complex dtype. Got: Long"
          ]
        }
      ]
    },
    {
      "cell_type": "code",
      "source": [
        "# torch.mean() func require a tensor of float32 Dtype to work\n",
        "torch.mean(x.type(torch.float32)), x.type(torch.float32).mean()"
      ],
      "metadata": {
        "colab": {
          "base_uri": "https://localhost:8080/"
        },
        "id": "sOHcdxParcmz",
        "outputId": "97e88e93-8843-479e-9363-f256b8a03197"
      },
      "execution_count": null,
      "outputs": [
        {
          "output_type": "execute_result",
          "data": {
            "text/plain": [
              "(tensor(45.), tensor(45.))"
            ]
          },
          "metadata": {},
          "execution_count": 64
        }
      ]
    },
    {
      "cell_type": "code",
      "source": [
        "# Sum\n",
        "torch.sum(x), x.sum()"
      ],
      "metadata": {
        "colab": {
          "base_uri": "https://localhost:8080/"
        },
        "id": "KoxN9Hl3rv6K",
        "outputId": "cd67815e-2041-46d7-d49d-360f157efeb9"
      },
      "execution_count": null,
      "outputs": [
        {
          "output_type": "execute_result",
          "data": {
            "text/plain": [
              "(tensor(450), tensor(450))"
            ]
          },
          "metadata": {},
          "execution_count": 66
        }
      ]
    },
    {
      "cell_type": "code",
      "source": [],
      "metadata": {
        "id": "KM1pgBqGsEdS"
      },
      "execution_count": null,
      "outputs": []
    }
  ]
}