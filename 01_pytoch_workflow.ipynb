{
  "nbformat": 4,
  "nbformat_minor": 0,
  "metadata": {
    "colab": {
      "provenance": [],
      "gpuType": "T4",
      "mount_file_id": "1PkeZ02NxgOjviVbVqNsQGntEJ2FOXkmQ",
      "authorship_tag": "ABX9TyPgMlLRNs6u8C96BjBXbkvi"
    },
    "kernelspec": {
      "name": "python3",
      "display_name": "Python 3"
    },
    "language_info": {
      "name": "python"
    },
    "accelerator": "GPU"
  },
  "cells": [
    {
      "cell_type": "code",
      "execution_count": 1,
      "metadata": {
        "id": "f7eZQhEz6IML",
        "colab": {
          "base_uri": "https://localhost:8080/"
        },
        "outputId": "5e32ebe3-c18e-456c-daf3-993adc3b8db1"
      },
      "outputs": [
        {
          "output_type": "execute_result",
          "data": {
            "text/plain": [
              "{1: 'data (prepare and load)',\n",
              " 2: 'build model',\n",
              " 3: 'fitting model',\n",
              " 4: 'make predictions and evaluating',\n",
              " 5: 'saving and loading a model',\n",
              " 6: 'putting it all together'}"
            ]
          },
          "metadata": {},
          "execution_count": 1
        }
      ],
      "source": [
        "topics_covered_in_here = {\n",
        "    1: \"data (prepare and load)\",\n",
        "    2: \"build model\",\n",
        "    3: \"fitting model\",\n",
        "    4: \"make predictions and evaluating\",\n",
        "    5: \"saving and loading a model\",\n",
        "    6: \"putting it all together\"\n",
        "}\n",
        "\n",
        "topics_covered_in_here"
      ]
    },
    {
      "cell_type": "code",
      "source": [
        "import torch\n",
        "from torch import nn # nn contains all the building blocks for Neural Networks\n",
        "import matplotlib.pyplot as plt\n",
        "\n",
        "torch.__version__"
      ],
      "metadata": {
        "colab": {
          "base_uri": "https://localhost:8080/",
          "height": 36
        },
        "id": "tNRQ7-daBXwQ",
        "outputId": "04b884c9-27d0-4867-d6b9-025eea87cbf7"
      },
      "execution_count": 2,
      "outputs": [
        {
          "output_type": "execute_result",
          "data": {
            "text/plain": [
              "'2.6.0+cu124'"
            ],
            "application/vnd.google.colaboratory.intrinsic+json": {
              "type": "string"
            }
          },
          "metadata": {},
          "execution_count": 2
        }
      ]
    },
    {
      "cell_type": "markdown",
      "source": [
        "## 1. Data (preparing and loading)\n",
        "\n",
        "Can be spreadsheets, images, videos, audio, DNA, text etc.\n",
        "\n",
        "ML is a game of 2 parts:\n",
        "1. Get data into numerical representation\n",
        "2. Build model to learn patterns in that numerical representations\n",
        "\n",
        "To showcase these, creating some known data using linear regression"
      ],
      "metadata": {
        "id": "4oty3OwCBzg2"
      }
    },
    {
      "cell_type": "code",
      "source": [
        "# Parameters *known*\n",
        "weight = 0.7\n",
        "bias = 0.3\n",
        "\n",
        "# creating data\n",
        "start = 0\n",
        "end = 1\n",
        "step = 0.02\n",
        "X = torch.arange(start, end, step).unsqueeze(dim=1)\n",
        "y = weight * X + bias\n",
        "X[:10], y[:10]"
      ],
      "metadata": {
        "colab": {
          "base_uri": "https://localhost:8080/"
        },
        "id": "jwl5ExkECWA6",
        "outputId": "ad145fa3-e9ca-4b9d-a025-fe3594722176"
      },
      "execution_count": 3,
      "outputs": [
        {
          "output_type": "execute_result",
          "data": {
            "text/plain": [
              "(tensor([[0.0000],\n",
              "         [0.0200],\n",
              "         [0.0400],\n",
              "         [0.0600],\n",
              "         [0.0800],\n",
              "         [0.1000],\n",
              "         [0.1200],\n",
              "         [0.1400],\n",
              "         [0.1600],\n",
              "         [0.1800]]),\n",
              " tensor([[0.3000],\n",
              "         [0.3140],\n",
              "         [0.3280],\n",
              "         [0.3420],\n",
              "         [0.3560],\n",
              "         [0.3700],\n",
              "         [0.3840],\n",
              "         [0.3980],\n",
              "         [0.4120],\n",
              "         [0.4260]]))"
            ]
          },
          "metadata": {},
          "execution_count": 3
        }
      ]
    },
    {
      "cell_type": "code",
      "source": [
        "len(X), len(y)"
      ],
      "metadata": {
        "colab": {
          "base_uri": "https://localhost:8080/"
        },
        "id": "evG-QLejDkkE",
        "outputId": "a3cca0bb-ab8a-4169-f5e8-18dc204edabd"
      },
      "execution_count": 4,
      "outputs": [
        {
          "output_type": "execute_result",
          "data": {
            "text/plain": [
              "(50, 50)"
            ]
          },
          "metadata": {},
          "execution_count": 4
        }
      ]
    },
    {
      "cell_type": "markdown",
      "source": [
        "### Splitting data into training and test sets"
      ],
      "metadata": {
        "id": "ojnIkfEWDxcf"
      }
    },
    {
      "cell_type": "code",
      "source": [
        "# train-test- split\n",
        "train_split = int(0.8 * len(X))\n",
        "X_train, y_train = X[:train_split], y[:train_split]\n",
        "X_test, y_test = X[train_split:], y[train_split:]\n",
        "\n",
        "len(X_train), len(y_train), len(X_test), len(y_test)"
      ],
      "metadata": {
        "colab": {
          "base_uri": "https://localhost:8080/"
        },
        "id": "7hNV3c-tEkMP",
        "outputId": "b0319e64-4246-4b62-c370-223fc1a9fdf2"
      },
      "execution_count": 5,
      "outputs": [
        {
          "output_type": "execute_result",
          "data": {
            "text/plain": [
              "(40, 40, 10, 10)"
            ]
          },
          "metadata": {},
          "execution_count": 5
        }
      ]
    },
    {
      "cell_type": "code",
      "source": [
        "def plot_predictions(train_data=X_train,\n",
        "                     train_labels=y_train,\n",
        "                     test_data=X_test,\n",
        "                     test_labels=y_test,\n",
        "                     predictions=None):\n",
        "  \"\"\"\n",
        "  Plots training data, test data and compares predictions.\n",
        "  \"\"\"\n",
        "  plt.figure(figsize=(10, 7))\n",
        "\n",
        "  # Plot training data in blue\n",
        "  plt.scatter(train_data, train_labels, c=\"b\", s=4, label=\"Training data\")\n",
        "\n",
        "  # Plot test data in green\n",
        "  plt.scatter(test_data, test_labels, c=\"g\", s=4, label=\"Testing data\")\n",
        "\n",
        "  if predictions is not None:\n",
        "    # Plot the predictions in red (predictions were made on the test data)\n",
        "    plt.scatter(test_data, predictions, c=\"r\", s=4, label=\"Predictions\")\n",
        "\n",
        "  # Show the legend\n",
        "  plt.legend(prop={\"size\": 14});"
      ],
      "metadata": {
        "id": "MIPNCk6yFLZa"
      },
      "execution_count": 5,
      "outputs": []
    },
    {
      "cell_type": "code",
      "source": [
        "plot_predictions();"
      ],
      "metadata": {
        "colab": {
          "base_uri": "https://localhost:8080/",
          "height": 599
        },
        "id": "g5Uf_dU3FcvR",
        "outputId": "ca64061c-cf45-45a6-c777-22f3e8a68f9a"
      },
      "execution_count": 7,
      "outputs": [
        {
          "output_type": "display_data",
          "data": {
            "text/plain": [
              "<Figure size 1000x700 with 1 Axes>"
            ],
            "image/png": "[encoded data removed]"
          },
          "metadata": {}
        }
      ]
    },
    {
      "cell_type": "markdown",
      "source": [
        "## 2. Build model\n",
        "\n",
        "What our model does is it starts with random values (weight and bias) and then look at training data and adjust the weight and bias to better represent (or get closer to) the ideal values (the weight and bias values we used to create the data)\n",
        "\n",
        "how does it do so:\n",
        "two main algorithms:\n",
        "1. Gradient descent\n",
        "2. Backpropogation"
      ],
      "metadata": {
        "id": "uTKN70J2Fssq"
      }
    },
    {
      "cell_type": "code",
      "source": [
        "# creating linear regression model class\n",
        "\n",
        "class LinearRegressionModel(nn.Module): # <- almost everything in PyTorch inherits from nn.Module\n",
        "  def __init__(self) -> None:\n",
        "    super().__init__()\n",
        "    self.weights = nn.Parameter(torch.randn(1, # start with a random weight\n",
        "                                            requires_grad=True, # can this parameter be updated via gradient descent?\n",
        "                                            dtype=torch.float))\n",
        "    self.bias = nn.Parameter(torch.randn(1, # start with a random bias\n",
        "                                         requires_grad=True, # can this parameter be updated via gradient descent?\n",
        "                                         dtype=torch.float))\n",
        "\n",
        "    # Require forward method to be overridden\n",
        "    # Forward method to define the computation in the model\n",
        "  def forward(self, x: torch.Tensor) -> torch.Tensor: # x is the input data\n",
        "    return self.weights * x + self.bias # y = mx + c"
      ],
      "metadata": {
        "id": "PD3MvlMfGMaU"
      },
      "execution_count": 8,
      "outputs": []
    },
    {
      "cell_type": "markdown",
      "source": [
        "### PyTorch model building essentials\n",
        "\n",
        "* torch.nn - contains all the buildings for computational graph (a NN can be considered a computational graph)\n",
        "* torch.nn.Parameter - what parametrs should our model try and learn, often PyTorch layer from torch.nn wil set these for us\n",
        "* torch.nn.Module - The base class for all NN modules, if you inherit it, must override forward() method\n",
        "* torch.optim - this is where optimizers in PyTorch are, they will help with gradient descent"
      ],
      "metadata": {
        "id": "QdiRf0maZmbe"
      }
    },
    {
      "cell_type": "code",
      "source": [
        "# Creating a random seed\n",
        "torch.manual_seed(42)\n",
        "\n",
        "# create an instance of the model we created\n",
        "model_0 = LinearRegressionModel()\n",
        "\n",
        "# checking parameters\n",
        "list(model_0.parameters())"
      ],
      "metadata": {
        "colab": {
          "base_uri": "https://localhost:8080/"
        },
        "id": "hDLiV4pxciXq",
        "outputId": "658a2354-efe5-497b-9e0c-379c41e56a30"
      },
      "execution_count": 9,
      "outputs": [
        {
          "output_type": "execute_result",
          "data": {
            "text/plain": [
              "[Parameter containing:\n",
              " tensor([0.3367], requires_grad=True),\n",
              " Parameter containing:\n",
              " tensor([0.1288], requires_grad=True)]"
            ]
          },
          "metadata": {},
          "execution_count": 9
        }
      ]
    },
    {
      "cell_type": "code",
      "source": [
        "# List named parameters\n",
        "model_0.state_dict()"
      ],
      "metadata": {
        "colab": {
          "base_uri": "https://localhost:8080/"
        },
        "id": "MQVxIvy6c8f2",
        "outputId": "fa1b2fa5-03a9-47e6-cf2a-1800e77ba29d"
      },
      "execution_count": 10,
      "outputs": [
        {
          "output_type": "execute_result",
          "data": {
            "text/plain": [
              "OrderedDict([('weights', tensor([0.3367])), ('bias', tensor([0.1288]))])"
            ]
          },
          "metadata": {},
          "execution_count": 10
        }
      ]
    },
    {
      "cell_type": "markdown",
      "source": [
        "### Making prediction using `torch.inference_mode()`\n",
        "\n",
        "To check our model's predictive power\n",
        "\n",
        "When we pass data to the model, its going to run it through forward method"
      ],
      "metadata": {
        "id": "-rfbU_Wnc9i-"
      }
    },
    {
      "cell_type": "code",
      "source": [
        "# make predictions with model - without trainig\n",
        "with torch.inference_mode(): # inference_mode doesn't track gradient. Because when making predictions you dont need to track gradient to update it later.\n",
        "  y_preds = model_0(X_test)\n",
        "\n",
        "\n",
        "# We can also do something similar with with torch.no_grad(), but inference_mode() is preferred\n",
        "y_preds"
      ],
      "metadata": {
        "colab": {
          "base_uri": "https://localhost:8080/"
        },
        "id": "d18fu54xeGU6",
        "outputId": "3b3488fb-1246-4cc0-c7b4-dabccef5b384"
      },
      "execution_count": 11,
      "outputs": [
        {
          "output_type": "execute_result",
          "data": {
            "text/plain": [
              "tensor([[0.3982],\n",
              "        [0.4049],\n",
              "        [0.4116],\n",
              "        [0.4184],\n",
              "        [0.4251],\n",
              "        [0.4318],\n",
              "        [0.4386],\n",
              "        [0.4453],\n",
              "        [0.4520],\n",
              "        [0.4588]])"
            ]
          },
          "metadata": {},
          "execution_count": 11
        }
      ]
    },
    {
      "cell_type": "code",
      "source": [
        "plot_predictions(predictions=y_preds)"
      ],
      "metadata": {
        "colab": {
          "base_uri": "https://localhost:8080/",
          "height": 599
        },
        "id": "nA2kDKo9eagG",
        "outputId": "ec1747b2-545e-4b1e-8a6c-a7d2844d07b9"
      },
      "execution_count": 12,
      "outputs": [
        {
          "output_type": "display_data",
          "data": {
            "text/plain": [
              "<Figure size 1000x700 with 1 Axes>"
            ],
            "image/png": "[encoded data removed]"
          },
          "metadata": {}
        }
      ]
    },
    {
      "cell_type": "markdown",
      "source": [
        "## 3. Training the model\n",
        "\n",
        "The whole idea is to to train a model from unknown paramters to to parameters which better represent the data.\n",
        "\n",
        "Things needed to trian the data:\n",
        "* Loss function\n",
        "* Optimizer\n",
        "\n",
        "Specifically for PyTorch, we need:\n",
        "* A training loop\n",
        "* A testing loop"
      ],
      "metadata": {
        "id": "-ifKhjf9_cqN"
      }
    },
    {
      "cell_type": "code",
      "source": [
        "list(model_0.parameters())"
      ],
      "metadata": {
        "colab": {
          "base_uri": "https://localhost:8080/"
        },
        "id": "LL-KAmW-BCa7",
        "outputId": "55156f90-ab36-4866-b8d1-839dfc912bc3"
      },
      "execution_count": 13,
      "outputs": [
        {
          "output_type": "execute_result",
          "data": {
            "text/plain": [
              "[Parameter containing:\n",
              " tensor([0.3367], requires_grad=True),\n",
              " Parameter containing:\n",
              " tensor([0.1288], requires_grad=True)]"
            ]
          },
          "metadata": {},
          "execution_count": 13
        }
      ]
    },
    {
      "cell_type": "code",
      "source": [
        "model_0.state_dict()"
      ],
      "metadata": {
        "colab": {
          "base_uri": "https://localhost:8080/"
        },
        "id": "14RrhCePBqKg",
        "outputId": "38f27491-44c5-478f-8aa1-5669b454241c"
      },
      "execution_count": 14,
      "outputs": [
        {
          "output_type": "execute_result",
          "data": {
            "text/plain": [
              "OrderedDict([('weights', tensor([0.3367])), ('bias', tensor([0.1288]))])"
            ]
          },
          "metadata": {},
          "execution_count": 14
        }
      ]
    },
    {
      "cell_type": "code",
      "source": [
        "# setup a loss func\n",
        "loss_fn = nn.L1Loss()\n",
        "\n",
        "# setup an optimizer (stochastic gradient descent)\n",
        "optimizer = torch.optim.SGD(params=model_0.parameters(), lr = 0.01) # lr = learning rate = hyperparameter (set by us)"
      ],
      "metadata": {
        "id": "vEUeD7BaB8he"
      },
      "execution_count": 15,
      "outputs": []
    },
    {
      "cell_type": "markdown",
      "source": [
        "#### Building a training loop and testing in loop in PyTorch\n",
        "\n",
        "0. Loop through the data\n",
        "1. forward pass (this invlovesdata moving through our model's `forward()` functions to make predictions - called forward propogation)\n",
        "2. Calculate the loss (compare forward pass predictions to ground tructh labels)\n",
        "3. Optimizier zero grad\n",
        "4. Loss backward - move backwards through the network to calculate the gradients of each paramter of ou model with respect to the loss\n",
        "5. Optimizer step - use the optimizer to adjust adjust our model parameters to try and improve the loss"
      ],
      "metadata": {
        "id": "Aw3mOOUYIaHX"
      }
    },
    {
      "cell_type": "code",
      "source": [
        "# An epoch is one loop through the data\n",
        "epochs = 200\n",
        "\n",
        "# Tracking different values\n",
        "epoch_count = []\n",
        "loss_values = []\n",
        "test_loss_values = []\n",
        "\n",
        "### Training\n",
        "# loop through the data:\n",
        "for epoch in range(epochs):\n",
        "  # set the model to training mode\n",
        "  model_0.train() # train mode in PyTorch sets all paramaters that require gradients to require gradients. require_grad=True\n",
        "\n",
        "  # 1. Forward pass\n",
        "  y_pred = model_0(X_train)\n",
        "\n",
        "  # 2. Calculate the loss\n",
        "  loss = loss_fn(y_pred, y_train)\n",
        "  # print(f\"Loss: {loss}\")\n",
        "\n",
        "  # 3. Optimizer zero grad\n",
        "  optimizer.zero_grad()\n",
        "\n",
        "  # 4. Perform Backpropogation on the loss with respect to the parameter of the model\n",
        "  loss.backward()\n",
        "\n",
        "  # 5. Step the optimizer (perform gradient descent)\n",
        "  optimizer.step() # by default the how the optimizer changes will accumulate through the loop so we have to zero them above in step 3 for the next iteration of the loop\n",
        "\n",
        "  ### Testing\n",
        "  model_0.eval() # turns off different settings in model which are not needed for evaluation/testing (dropout/batchnorm layers)\n",
        "  with torch.inference_mode(): # turns off gradient_descent and more things behind the scene\n",
        "    # 1. Forward pass on test data\n",
        "    test_pred = model_0(X_test)\n",
        "\n",
        "    # 2. Calculate loss on test_pred vs y_test\n",
        "    test_loss = loss_fn(test_pred, y_test)\n",
        "\n",
        "  # Print out what happened\n",
        "  if epoch % 10 == 0:\n",
        "    epoch_count.append(epoch)\n",
        "    loss_values.append(loss)\n",
        "    test_loss_values.append(test_loss)\n",
        "    print(f\"Epoch : {epoch}, Loss: {loss}, Test Loss: {test_loss}\")\n",
        "    print(model_0.state_dict())"
      ],
      "metadata": {
        "colab": {
          "base_uri": "https://localhost:8080/"
        },
        "id": "Xe2-VI5nLPAc",
        "outputId": "a11abd2b-fc24-456c-d46f-c2dab2fcdef6"
      },
      "execution_count": 16,
      "outputs": [
        {
          "output_type": "stream",
          "name": "stdout",
          "text": [
            "Epoch : 0, Loss: 0.31288138031959534, Test Loss: 0.48106518387794495\n",
            "OrderedDict([('weights', tensor([0.3406])), ('bias', tensor([0.1388]))])\n",
            "Epoch : 10, Loss: 0.1976713240146637, Test Loss: 0.3463551998138428\n",
            "OrderedDict([('weights', tensor([0.3796])), ('bias', tensor([0.2388]))])\n",
            "Epoch : 20, Loss: 0.08908725529909134, Test Loss: 0.21729660034179688\n",
            "OrderedDict([('weights', tensor([0.4184])), ('bias', tensor([0.3333]))])\n",
            "Epoch : 30, Loss: 0.053148526698350906, Test Loss: 0.14464017748832703\n",
            "OrderedDict([('weights', tensor([0.4512])), ('bias', tensor([0.3768]))])\n",
            "Epoch : 40, Loss: 0.04543796554207802, Test Loss: 0.11360953003168106\n",
            "OrderedDict([('weights', tensor([0.4748])), ('bias', tensor([0.3868]))])\n",
            "Epoch : 50, Loss: 0.04167863354086876, Test Loss: 0.09919948130846024\n",
            "OrderedDict([('weights', tensor([0.4938])), ('bias', tensor([0.3843]))])\n",
            "Epoch : 60, Loss: 0.03818932920694351, Test Loss: 0.08886633068323135\n",
            "OrderedDict([('weights', tensor([0.5116])), ('bias', tensor([0.3788]))])\n",
            "Epoch : 70, Loss: 0.03476089984178543, Test Loss: 0.0805937647819519\n",
            "OrderedDict([('weights', tensor([0.5288])), ('bias', tensor([0.3718]))])\n",
            "Epoch : 80, Loss: 0.03132382780313492, Test Loss: 0.07232122868299484\n",
            "OrderedDict([('weights', tensor([0.5459])), ('bias', tensor([0.3648]))])\n",
            "Epoch : 90, Loss: 0.02788739837706089, Test Loss: 0.06473556160926819\n",
            "OrderedDict([('weights', tensor([0.5629])), ('bias', tensor([0.3573]))])\n",
            "Epoch : 100, Loss: 0.024458957836031914, Test Loss: 0.05646304413676262\n",
            "OrderedDict([('weights', tensor([0.5800])), ('bias', tensor([0.3503]))])\n",
            "Epoch : 110, Loss: 0.021020207554101944, Test Loss: 0.04819049686193466\n",
            "OrderedDict([('weights', tensor([0.5972])), ('bias', tensor([0.3433]))])\n",
            "Epoch : 120, Loss: 0.01758546568453312, Test Loss: 0.04060482233762741\n",
            "OrderedDict([('weights', tensor([0.6141])), ('bias', tensor([0.3358]))])\n",
            "Epoch : 130, Loss: 0.014155393466353416, Test Loss: 0.03233227878808975\n",
            "OrderedDict([('weights', tensor([0.6313])), ('bias', tensor([0.3288]))])\n",
            "Epoch : 140, Loss: 0.010716589167714119, Test Loss: 0.024059748277068138\n",
            "OrderedDict([('weights', tensor([0.6485])), ('bias', tensor([0.3218]))])\n",
            "Epoch : 150, Loss: 0.0072835334576666355, Test Loss: 0.016474086791276932\n",
            "OrderedDict([('weights', tensor([0.6654])), ('bias', tensor([0.3143]))])\n",
            "Epoch : 160, Loss: 0.0038517764769494534, Test Loss: 0.008201557211577892\n",
            "OrderedDict([('weights', tensor([0.6826])), ('bias', tensor([0.3073]))])\n",
            "Epoch : 170, Loss: 0.008932482451200485, Test Loss: 0.005023092031478882\n",
            "OrderedDict([('weights', tensor([0.6951])), ('bias', tensor([0.2993]))])\n",
            "Epoch : 180, Loss: 0.008932482451200485, Test Loss: 0.005023092031478882\n",
            "OrderedDict([('weights', tensor([0.6951])), ('bias', tensor([0.2993]))])\n",
            "Epoch : 190, Loss: 0.008932482451200485, Test Loss: 0.005023092031478882\n",
            "OrderedDict([('weights', tensor([0.6951])), ('bias', tensor([0.2993]))])\n"
          ]
        }
      ]
    },
    {
      "cell_type": "code",
      "source": [
        "import numpy as np\n",
        "np.array(torch.tensor(loss_values).cpu().numpy())"
      ],
      "metadata": {
        "colab": {
          "base_uri": "https://localhost:8080/"
        },
        "id": "Bw8iEwlMBxcg",
        "outputId": "8abd0466-ad79-4700-c062-afd3d7d8d0e4"
      },
      "execution_count": 17,
      "outputs": [
        {
          "output_type": "execute_result",
          "data": {
            "text/plain": [
              "array([0.31288138, 0.19767132, 0.08908726, 0.05314853, 0.04543797,\n",
              "       0.04167863, 0.03818933, 0.0347609 , 0.03132383, 0.0278874 ,\n",
              "       0.02445896, 0.02102021, 0.01758547, 0.01415539, 0.01071659,\n",
              "       0.00728353, 0.00385178, 0.00893248, 0.00893248, 0.00893248],\n",
              "      dtype=float32)"
            ]
          },
          "metadata": {},
          "execution_count": 17
        }
      ]
    },
    {
      "cell_type": "code",
      "source": [
        "# plot the loss curves\n",
        "plt.plot(epoch_count, np.array(torch.tensor(loss_values).numpy()), label = \"Train Loss\")\n",
        "plt.plot(epoch_count, test_loss_values, label = \"Test Loss\")\n",
        "plt.title(\"Training and test loss curves\")\n",
        "plt.xlabel(\"Epochs\")\n",
        "plt.ylabel(\"Loss\")\n",
        "plt.legend();"
      ],
      "metadata": {
        "colab": {
          "base_uri": "https://localhost:8080/",
          "height": 472
        },
        "id": "c9EdTGfLBTsH",
        "outputId": "00bcd067-3dbc-47a1-9e23-41663182a66a"
      },
      "execution_count": 18,
      "outputs": [
        {
          "output_type": "display_data",
          "data": {
            "text/plain": [
              "<Figure size 640x480 with 1 Axes>"
            ],
            "image/png": "[encoded data removed]"
          },
          "metadata": {}
        }
      ]
    },
    {
      "cell_type": "code",
      "source": [
        "with torch.inference_mode():\n",
        "  y_preds_new = model_0(X_test)"
      ],
      "metadata": {
        "id": "1fJWdee0OLfd"
      },
      "execution_count": 19,
      "outputs": []
    },
    {
      "cell_type": "code",
      "source": [
        "model_0.state_dict()"
      ],
      "metadata": {
        "colab": {
          "base_uri": "https://localhost:8080/"
        },
        "id": "dTIKvyL9gyJT",
        "outputId": "a9f7b11d-97dc-4faf-a9fe-1a55ae97960c"
      },
      "execution_count": 20,
      "outputs": [
        {
          "output_type": "execute_result",
          "data": {
            "text/plain": [
              "OrderedDict([('weights', tensor([0.6990])), ('bias', tensor([0.3093]))])"
            ]
          },
          "metadata": {},
          "execution_count": 20
        }
      ]
    },
    {
      "cell_type": "code",
      "source": [
        "weight, bias"
      ],
      "metadata": {
        "colab": {
          "base_uri": "https://localhost:8080/"
        },
        "id": "ECRnNphRg0bE",
        "outputId": "cd37d1be-02aa-47bb-c088-785c579eee8c"
      },
      "execution_count": 21,
      "outputs": [
        {
          "output_type": "execute_result",
          "data": {
            "text/plain": [
              "(0.7, 0.3)"
            ]
          },
          "metadata": {},
          "execution_count": 21
        }
      ]
    },
    {
      "cell_type": "code",
      "source": [
        "plot_predictions(predictions=y_preds_new)"
      ],
      "metadata": {
        "colab": {
          "base_uri": "https://localhost:8080/",
          "height": 599
        },
        "id": "sSv7vx_qmqXi",
        "outputId": "2df79a30-dbdf-4424-9e1c-9c5f716a5782"
      },
      "execution_count": 22,
      "outputs": [
        {
          "output_type": "display_data",
          "data": {
            "text/plain": [
              "<Figure size 1000x700 with 1 Axes>"
            ],
            "image/png": "[encoded data removed]"
          },
          "metadata": {}
        }
      ]
    },
    {
      "cell_type": "markdown",
      "source": [
        "## 4. Saving a model in PyTorch\n",
        "\n",
        "3 main methods to save and load models\n",
        "\n",
        "1. `torch.save()` - allows you to save PyTorch object in python pickle format\n",
        "2. `torch.load()` - allows you to load a saved PyTorch object\n",
        "3. `torch.nn.Module.laod_state_dict()` - this allows to load model's saved state dictionary"
      ],
      "metadata": {
        "id": "m1hzpFw1mvCh"
      }
    },
    {
      "cell_type": "code",
      "source": [
        "# Saving a PyTorch model\n",
        "from pathlib import Path\n",
        "\n",
        "# 1. Create model directory\n",
        "MODEL_PATH = Path(\"models\")\n",
        "MODEL_PATH.mkdir(parents=True, exist_ok=True)\n",
        "\n",
        "# 2. Create model save path\n",
        "MODEL_NAME = \"01_pytorch_workflow_model_0.pth\"\n",
        "MODEL_SAVE_PATH = MODEL_PATH / MODEL_NAME\n",
        "\n",
        "# 3. Save the model state dict\n",
        "print(f\"Saving model to: {MODEL_SAVE_PATH}\")\n",
        "torch.save(obj = model_0.state_dict(), f=MODEL_SAVE_PATH)"
      ],
      "metadata": {
        "colab": {
          "base_uri": "https://localhost:8080/"
        },
        "id": "AoCA1QHoDqtn",
        "outputId": "b3e98638-3c98-4749-873f-456599d2e39e"
      },
      "execution_count": 23,
      "outputs": [
        {
          "output_type": "stream",
          "name": "stdout",
          "text": [
            "Saving model to: models/01_pytorch_workflow_model_0.pth\n"
          ]
        }
      ]
    },
    {
      "cell_type": "code",
      "source": [
        "! ls -l models"
      ],
      "metadata": {
        "colab": {
          "base_uri": "https://localhost:8080/"
        },
        "id": "e998-BNSEi2k",
        "outputId": "5d7289be-3ef8-46ec-9cb4-a225b6f00d7e"
      },
      "execution_count": 24,
      "outputs": [
        {
          "output_type": "stream",
          "name": "stdout",
          "text": [
            "total 4\n",
            "-rw-r--r-- 1 root root 1680 Jun 19 17:09 01_pytorch_workflow_model_0.pth\n"
          ]
        }
      ]
    },
    {
      "cell_type": "markdown",
      "source": [
        "## 5. Loading a PyTorch model\n",
        "\n",
        "Since we just saved the state_dict. We will have to create a new instance of our model class and load the saved state_dict into it."
      ],
      "metadata": {
        "id": "PYiDhbTSG3HA"
      }
    },
    {
      "cell_type": "code",
      "source": [
        "# To load in a saved state_dict we have instantiate a new instance of the model class\n",
        "loaded_model_0 = LinearRegressionModel()\n",
        "print(loaded_model_0.state_dict())\n",
        "\n",
        "# Load the saved state_dict of model_0 which we saved\n",
        "loaded_model_0.load_state_dict(torch.load(f=MODEL_SAVE_PATH))\n",
        "print(loaded_model_0.state_dict()) # Loaded"
      ],
      "metadata": {
        "colab": {
          "base_uri": "https://localhost:8080/"
        },
        "id": "PlRvq2GLHfcZ",
        "outputId": "56a270ba-a30a-455d-e56c-c3403914ea6a"
      },
      "execution_count": 25,
      "outputs": [
        {
          "output_type": "stream",
          "name": "stdout",
          "text": [
            "OrderedDict([('weights', tensor([0.2345])), ('bias', tensor([0.2303]))])\n",
            "OrderedDict([('weights', tensor([0.6990])), ('bias', tensor([0.3093]))])\n"
          ]
        }
      ]
    },
    {
      "cell_type": "code",
      "source": [
        "# Make some predictions with our loaded model\n",
        "loaded_model_0.eval()\n",
        "with torch.inference_mode():\n",
        "  loaded_model_preds = loaded_model_0(X_test)\n",
        "\n",
        "# Compare it with the predictions earlier\n",
        "y_preds_new == loaded_model_preds # Same predictions. Hence our model is same!!!!"
      ],
      "metadata": {
        "colab": {
          "base_uri": "https://localhost:8080/"
        },
        "id": "X3n_pGMWIKwM",
        "outputId": "0e2957dc-7aae-45fb-816e-0e2bd9b590b0"
      },
      "execution_count": 26,
      "outputs": [
        {
          "output_type": "execute_result",
          "data": {
            "text/plain": [
              "tensor([[True],\n",
              "        [True],\n",
              "        [True],\n",
              "        [True],\n",
              "        [True],\n",
              "        [True],\n",
              "        [True],\n",
              "        [True],\n",
              "        [True],\n",
              "        [True]])"
            ]
          },
          "metadata": {},
          "execution_count": 26
        }
      ]
    },
    {
      "cell_type": "markdown",
      "source": [
        "## 6. Putting it all together\n",
        "putting it all together in one place"
      ],
      "metadata": {
        "id": "2wvYdei-Jw14"
      }
    },
    {
      "cell_type": "code",
      "source": [
        "# Import pytorch\n",
        "import torch\n",
        "from torch import nn\n",
        "import matplotlib.pyplot as plt\n",
        "\n",
        "# check pytorch version\n",
        "torch.__version__"
      ],
      "metadata": {
        "colab": {
          "base_uri": "https://localhost:8080/",
          "height": 36
        },
        "id": "F_Ns5d6_Jvwm",
        "outputId": "505096ba-a0d7-4f66-a62c-a8bee3889e28"
      },
      "execution_count": 3,
      "outputs": [
        {
          "output_type": "execute_result",
          "data": {
            "text/plain": [
              "'2.6.0+cu124'"
            ],
            "application/vnd.google.colaboratory.intrinsic+json": {
              "type": "string"
            }
          },
          "metadata": {},
          "execution_count": 3
        }
      ]
    },
    {
      "cell_type": "markdown",
      "source": [
        "Create device agnostic Code\n",
        "\n",
        "Basically if we've got GPU we will use GPU (if its available)\n",
        "\n",
        "if not, use cpu"
      ],
      "metadata": {
        "id": "UcWXjUsbKI-2"
      }
    },
    {
      "cell_type": "code",
      "source": [
        "# Setup device agnostic code\n",
        "device = \"cuda\" if torch.cuda.is_available() else \"cpu\"\n",
        "print(f\"Using: {device}\")"
      ],
      "metadata": {
        "colab": {
          "base_uri": "https://localhost:8080/"
        },
        "id": "f9e2SVWGKWsm",
        "outputId": "ea6b3b7a-c481-4eef-80b9-38b7857b40c3"
      },
      "execution_count": 4,
      "outputs": [
        {
          "output_type": "stream",
          "name": "stdout",
          "text": [
            "Using: cuda\n"
          ]
        }
      ]
    },
    {
      "cell_type": "markdown",
      "source": [
        "### 6.1 Data"
      ],
      "metadata": {
        "id": "h1dH84hpKwxs"
      }
    },
    {
      "cell_type": "code",
      "source": [
        "# Create data using linear regression y = mx + c\n",
        "weight = 0.7\n",
        "bias = 0.3\n",
        "\n",
        "# create range values\n",
        "start = 0\n",
        "end = 1\n",
        "step = 0.02\n",
        "\n",
        "# create x & y\n",
        "X = torch.arange(start, end, step).unsqueeze(dim=1)\n",
        "y = weight * X + bias\n",
        "X[:10], y[:10]"
      ],
      "metadata": {
        "colab": {
          "base_uri": "https://localhost:8080/"
        },
        "id": "BsoZc4dDK44p",
        "outputId": "cf9559c6-7771-4421-fcbd-a578f48eca7c"
      },
      "execution_count": 5,
      "outputs": [
        {
          "output_type": "execute_result",
          "data": {
            "text/plain": [
              "(tensor([[0.0000],\n",
              "         [0.0200],\n",
              "         [0.0400],\n",
              "         [0.0600],\n",
              "         [0.0800],\n",
              "         [0.1000],\n",
              "         [0.1200],\n",
              "         [0.1400],\n",
              "         [0.1600],\n",
              "         [0.1800]]),\n",
              " tensor([[0.3000],\n",
              "         [0.3140],\n",
              "         [0.3280],\n",
              "         [0.3420],\n",
              "         [0.3560],\n",
              "         [0.3700],\n",
              "         [0.3840],\n",
              "         [0.3980],\n",
              "         [0.4120],\n",
              "         [0.4260]]))"
            ]
          },
          "metadata": {},
          "execution_count": 5
        }
      ]
    },
    {
      "cell_type": "code",
      "source": [
        "# plit data\n",
        "train_split = int(0.8 * len(X))\n",
        "X_train, y_train = X[:train_split], y[:train_split]\n",
        "X_test, y_test = X[train_split:], y[train_split:]\n",
        "len(X_train), len(y_train), len(X_test), len(y_test)"
      ],
      "metadata": {
        "colab": {
          "base_uri": "https://localhost:8080/"
        },
        "id": "hFkea9gALlp0",
        "outputId": "da567dde-256a-4bc7-982b-874968b72c9c"
      },
      "execution_count": 6,
      "outputs": [
        {
          "output_type": "execute_result",
          "data": {
            "text/plain": [
              "(40, 40, 10, 10)"
            ]
          },
          "metadata": {},
          "execution_count": 6
        }
      ]
    },
    {
      "cell_type": "code",
      "source": [
        "def plot_predictions(train_data=X_train,\n",
        "                     train_labels=y_train,\n",
        "                     test_data=X_test,\n",
        "                     test_labels=y_test,\n",
        "                     predictions=None):\n",
        "  \"\"\"\n",
        "  Plots training data, test data and compares predictions.\n",
        "  \"\"\"\n",
        "  plt.figure(figsize=(10, 7))\n",
        "\n",
        "  # Plot training data in blue\n",
        "  plt.scatter(train_data, train_labels, c=\"b\", s=4, label=\"Training data\")\n",
        "\n",
        "  # Plot test data in green\n",
        "  plt.scatter(test_data, test_labels, c=\"g\", s=4, label=\"Testing data\")\n",
        "\n",
        "  if predictions is not None:\n",
        "    # Plot the predictions in red (predictions were made on the test data)\n",
        "    plt.scatter(test_data, predictions, c=\"r\", s=4, label=\"Predictions\")\n",
        "\n",
        "  # Show the legend\n",
        "  plt.legend(prop={\"size\": 14});"
      ],
      "metadata": {
        "id": "rpqsNNrIQ2yE"
      },
      "execution_count": 7,
      "outputs": []
    },
    {
      "cell_type": "code",
      "source": [
        "plot_predictions()"
      ],
      "metadata": {
        "colab": {
          "base_uri": "https://localhost:8080/",
          "height": 599
        },
        "id": "_TLNA0uAQ41T",
        "outputId": "2cebc8b5-e581-4b40-f5a5-6bf31c2e43e3"
      },
      "execution_count": 8,
      "outputs": [
        {
          "output_type": "display_data",
          "data": {
            "text/plain": [
              "<Figure size 1000x700 with 1 Axes>"
            ],
            "image/png": "[encoded data removed]"
          },
          "metadata": {}
        }
      ]
    },
    {
      "cell_type": "markdown",
      "source": [
        "### 6.2 Building a model"
      ],
      "metadata": {
        "id": "lXeU1m0KREPz"
      }
    },
    {
      "cell_type": "code",
      "source": [
        "class LinearRegressionModelV2(nn.Module):\n",
        "  def __init__(self) -> None:\n",
        "    super().__init__()\n",
        "    # Use nn.Linear() for creating model parameters\n",
        "    self.linear_layer = nn.Linear(in_features=1,\n",
        "                                  out_features=1)\n",
        "\n",
        "  def forward(self, x: torch.Tensor) -> torch.Tensor:\n",
        "    return self.linear_layer(x)\n",
        "\n",
        "# setting manual seed\n",
        "torch.manual_seed(42)\n",
        "model_1 = LinearRegressionModelV2()\n",
        "model_1, model_1.state_dict()"
      ],
      "metadata": {
        "colab": {
          "base_uri": "https://localhost:8080/"
        },
        "id": "ldwa_8oYRIWj",
        "outputId": "38453f28-a91c-4822-9b58-9f9b3e4e96b3"
      },
      "execution_count": 9,
      "outputs": [
        {
          "output_type": "execute_result",
          "data": {
            "text/plain": [
              "(LinearRegressionModelV2(\n",
              "   (linear_layer): Linear(in_features=1, out_features=1, bias=True)\n",
              " ),\n",
              " OrderedDict([('linear_layer.weight', tensor([[0.7645]])),\n",
              "              ('linear_layer.bias', tensor([0.8300]))]))"
            ]
          },
          "metadata": {},
          "execution_count": 9
        }
      ]
    },
    {
      "cell_type": "code",
      "source": [
        "# Check the model current device\n",
        "next(model_1.parameters()).device # it is cpu but we running everything on GPU so we have to change the location"
      ],
      "metadata": {
        "colab": {
          "base_uri": "https://localhost:8080/"
        },
        "id": "XuPHSWv0TT5i",
        "outputId": "efafe01f-4ccd-4015-a322-88f31b3a6e3e"
      },
      "execution_count": 10,
      "outputs": [
        {
          "output_type": "execute_result",
          "data": {
            "text/plain": [
              "device(type='cpu')"
            ]
          },
          "metadata": {},
          "execution_count": 10
        }
      ]
    },
    {
      "cell_type": "code",
      "source": [
        "# set the model to use target device\n",
        "model_1.to(device)\n",
        "next(model_1.parameters()).device"
      ],
      "metadata": {
        "colab": {
          "base_uri": "https://localhost:8080/"
        },
        "id": "iJ8ZBsbRT3V_",
        "outputId": "27c7da49-b79a-45c7-baa7-8bb379b2d96e"
      },
      "execution_count": 11,
      "outputs": [
        {
          "output_type": "execute_result",
          "data": {
            "text/plain": [
              "device(type='cuda', index=0)"
            ]
          },
          "metadata": {},
          "execution_count": 11
        }
      ]
    },
    {
      "cell_type": "markdown",
      "source": [
        "### 6.3 Training\n",
        "\n",
        "for training we need:\n",
        "* Loss function\n",
        "* Optimizer\n",
        "* Training loop\n",
        "* Testing loop"
      ],
      "metadata": {
        "id": "2MjioSdbTTOS"
      }
    },
    {
      "cell_type": "code",
      "source": [
        "# setup loss function\n",
        "loss_fn = nn.L1Loss() # Same as MAE\n",
        "\n",
        "# Setup optimizer\n",
        "optimizer = torch.optim.SGD(lr = 0.01, params=model_1.parameters())\n",
        "\n",
        "# Training loop\n",
        "torch.manual_seed(42)\n",
        "\n",
        "# Put all data on target device\n",
        "X_train = X_train.to(device)\n",
        "X_test = X_test.to(device)\n",
        "y_train = y_train.to(device)\n",
        "y_test = X_test.to(device)\n",
        "\n",
        "# For training loop\n",
        "epochs = 200\n",
        "\n",
        "for epoch in range(epochs):\n",
        "  model_1.train()\n",
        "\n",
        "  # 1. Forward pass\n",
        "  y_pred = model_1(X_train)\n",
        "\n",
        "  # 2. Calculate the loss\n",
        "  loss = loss_fn(y_pred, y_train)\n",
        "\n",
        "  # 3. Zero grad\n",
        "  optimizer.zero_grad()\n",
        "\n",
        "  # 4. Perform Backpropogation\n",
        "  loss.backward()\n",
        "\n",
        "  # 5. Optimizer step\n",
        "  optimizer.step()\n",
        "\n",
        "  # Testing\n",
        "  model_1.eval()\n",
        "  with torch.inference_mode():\n",
        "    test_pred = model_1(X_test)\n",
        "    test_loss = loss_fn(test_pred, X_test)\n",
        "\n",
        "  # Print out whats happening\n",
        "  if epoch % 10 == 0:\n",
        "    print(f\"Epoch: {epoch} | Loss: {loss} | Test Loss: {test_loss}\")"
      ],
      "metadata": {
        "colab": {
          "base_uri": "https://localhost:8080/"
        },
        "id": "5jamReMCVHTA",
        "outputId": "c362a31e-99fb-4f3b-afe2-8c1816e26cfc"
      },
      "execution_count": 12,
      "outputs": [
        {
          "output_type": "stream",
          "name": "stdout",
          "text": [
            "Epoch: 0 | Loss: 0.5551779866218567 | Test Loss: 0.6069762706756592\n",
            "Epoch: 10 | Loss: 0.439968079328537 | Test Loss: 0.47226640582084656\n",
            "Epoch: 20 | Loss: 0.3247582018375397 | Test Loss: 0.3375565707683563\n",
            "Epoch: 30 | Loss: 0.20954833924770355 | Test Loss: 0.2028467208147049\n",
            "Epoch: 40 | Loss: 0.09433845430612564 | Test Loss: 0.06813690066337585\n",
            "Epoch: 50 | Loss: 0.023886388167738914 | Test Loss: 0.023275597020983696\n",
            "Epoch: 60 | Loss: 0.019956795498728752 | Test Loss: 0.021817976608872414\n",
            "Epoch: 70 | Loss: 0.016517987474799156 | Test Loss: 0.019164402037858963\n",
            "Epoch: 80 | Loss: 0.013089174404740334 | Test Loss: 0.01817154325544834\n",
            "Epoch: 90 | Loss: 0.009653178043663502 | Test Loss: 0.019074415788054466\n",
            "Epoch: 100 | Loss: 0.006215683650225401 | Test Loss: 0.021886223927140236\n",
            "Epoch: 110 | Loss: 0.00278724217787385 | Test Loss: 0.02736755646765232\n",
            "Epoch: 120 | Loss: 0.0012645035749301314 | Test Loss: 0.02134581282734871\n",
            "Epoch: 130 | Loss: 0.0012645035749301314 | Test Loss: 0.02134581282734871\n",
            "Epoch: 140 | Loss: 0.0012645035749301314 | Test Loss: 0.02134581282734871\n",
            "Epoch: 150 | Loss: 0.0012645035749301314 | Test Loss: 0.02134581282734871\n",
            "Epoch: 160 | Loss: 0.0012645035749301314 | Test Loss: 0.02134581282734871\n",
            "Epoch: 170 | Loss: 0.0012645035749301314 | Test Loss: 0.02134581282734871\n",
            "Epoch: 180 | Loss: 0.0012645035749301314 | Test Loss: 0.02134581282734871\n",
            "Epoch: 190 | Loss: 0.0012645035749301314 | Test Loss: 0.02134581282734871\n"
          ]
        }
      ]
    },
    {
      "cell_type": "code",
      "source": [
        "model_1.state_dict(), weight, bias"
      ],
      "metadata": {
        "colab": {
          "base_uri": "https://localhost:8080/"
        },
        "id": "_A3ARPN7YHK4",
        "outputId": "567a5568-c84f-4be9-cc42-69e0d3de870d"
      },
      "execution_count": 13,
      "outputs": [
        {
          "output_type": "execute_result",
          "data": {
            "text/plain": [
              "(OrderedDict([('linear_layer.weight', tensor([[0.6968]], device='cuda:0')),\n",
              "              ('linear_layer.bias', tensor([0.3025], device='cuda:0'))]),\n",
              " 0.7,\n",
              " 0.3)"
            ]
          },
          "metadata": {},
          "execution_count": 13
        }
      ]
    },
    {
      "cell_type": "markdown",
      "source": [
        "### 6.4 Making and evaluating model"
      ],
      "metadata": {
        "id": "XbHxAXN7YTS9"
      }
    },
    {
      "cell_type": "code",
      "source": [
        "# Turn model into evaluation mode\n",
        "model_1.eval()\n",
        "\n",
        "with torch.inference_mode():\n",
        "  y_preds = model_1(X_test)\n",
        "\n",
        "plot_predictions(predictions=y_preds.cpu())"
      ],
      "metadata": {
        "colab": {
          "base_uri": "https://localhost:8080/",
          "height": 599
        },
        "id": "9JHH9FUAYnN8",
        "outputId": "85e5a74c-b30e-4465-84f2-decece7193db"
      },
      "execution_count": 14,
      "outputs": [
        {
          "output_type": "display_data",
          "data": {
            "text/plain": [
              "<Figure size 1000x700 with 1 Axes>"
            ],
            "image/png": "[encoded data removed]"
          },
          "metadata": {}
        }
      ]
    },
    {
      "cell_type": "markdown",
      "source": [
        "### 6.5 Saving and loading trained model"
      ],
      "metadata": {
        "id": "k01_B6QAuIKJ"
      }
    },
    {
      "cell_type": "code",
      "source": [
        "from pathlib import Path\n",
        "\n",
        "# 1. Create models directory\n",
        "MODEL_PATH = Path(\"models\")\n",
        "MODEL_PATH.mkdir(parents=True, exist_ok=True)\n",
        "\n",
        "# 2. Create model save path\n",
        "MODEL_NAME = \"01_pytorch_workflow_model_1.pth\"\n",
        "MODEL_SAVE_PATH = MODEL_PATH / MODEL_NAME\n",
        "\n",
        "# 3. Save the model state dict\n",
        "print(f\"Saving model to: {MODEL_SAVE_PATH}\")\n",
        "torch.save(obj=model_1.state_dict(), f=MODEL_SAVE_PATH)"
      ],
      "metadata": {
        "colab": {
          "base_uri": "https://localhost:8080/"
        },
        "id": "prfqViQcuOww",
        "outputId": "0edda2c4-1929-4180-a797-7dea7dd2772d"
      },
      "execution_count": 17,
      "outputs": [
        {
          "output_type": "stream",
          "name": "stdout",
          "text": [
            "Saving model to: models/01_pytorch_workflow_model_1.pth\n"
          ]
        }
      ]
    },
    {
      "cell_type": "code",
      "source": [
        "# Load a PyTorch Model\n",
        "\n",
        "# Create a new instance of linear regression v2 class\n",
        "loaded_model_1 = LinearRegressionModelV2()\n",
        "\n",
        "# Load the saved model_1 state_dict\n",
        "loaded_model_1.load_state_dict(torch.load(MODEL_SAVE_PATH))\n",
        "\n",
        "# Put the model to device\n",
        "loaded_model_1.to(device)"
      ],
      "metadata": {
        "colab": {
          "base_uri": "https://localhost:8080/"
        },
        "id": "FwDb_G4RvakD",
        "outputId": "168be7f2-d1b4-4491-ce57-1cbd99fd07f4"
      },
      "execution_count": 20,
      "outputs": [
        {
          "output_type": "execute_result",
          "data": {
            "text/plain": [
              "LinearRegressionModelV2(\n",
              "  (linear_layer): Linear(in_features=1, out_features=1, bias=True)\n",
              ")"
            ]
          },
          "metadata": {},
          "execution_count": 20
        }
      ]
    },
    {
      "cell_type": "code",
      "source": [
        "next(loaded_model_1.parameters()).device"
      ],
      "metadata": {
        "colab": {
          "base_uri": "https://localhost:8080/"
        },
        "id": "xgNI7z50wI3j",
        "outputId": "71e47a31-d837-462f-f65e-f687227a6d6a"
      },
      "execution_count": 21,
      "outputs": [
        {
          "output_type": "execute_result",
          "data": {
            "text/plain": [
              "device(type='cuda', index=0)"
            ]
          },
          "metadata": {},
          "execution_count": 21
        }
      ]
    },
    {
      "cell_type": "code",
      "source": [
        "loaded_model_1.state_dict()"
      ],
      "metadata": {
        "colab": {
          "base_uri": "https://localhost:8080/"
        },
        "id": "xnf9sEWrwOFj",
        "outputId": "3aff9f6b-8e6d-487c-c2fa-8b175f3c0c9a"
      },
      "execution_count": 22,
      "outputs": [
        {
          "output_type": "execute_result",
          "data": {
            "text/plain": [
              "OrderedDict([('linear_layer.weight', tensor([[0.6968]], device='cuda:0')),\n",
              "             ('linear_layer.bias', tensor([0.3025], device='cuda:0'))])"
            ]
          },
          "metadata": {},
          "execution_count": 22
        }
      ]
    },
    {
      "cell_type": "code",
      "source": [
        "# Evaluate model\n",
        "loaded_model_1.eval()\n",
        "with torch.inference_mode():\n",
        "  loaded_model_1_preds = loaded_model_1(X_test)\n",
        "\n",
        "y_preds == loaded_model_1_preds # All predictions are same. SO model loaded successfully"
      ],
      "metadata": {
        "colab": {
          "base_uri": "https://localhost:8080/"
        },
        "id": "J2XmhcJmwRim",
        "outputId": "255074cb-1525-43a7-cec2-3264ce8c32ce"
      },
      "execution_count": 23,
      "outputs": [
        {
          "output_type": "execute_result",
          "data": {
            "text/plain": [
              "tensor([[True],\n",
              "        [True],\n",
              "        [True],\n",
              "        [True],\n",
              "        [True],\n",
              "        [True],\n",
              "        [True],\n",
              "        [True],\n",
              "        [True],\n",
              "        [True]], device='cuda:0')"
            ]
          },
          "metadata": {},
          "execution_count": 23
        }
      ]
    },
    {
      "cell_type": "markdown",
      "metadata": {
        "id": "7210ff4e"
      },
      "source": [
        "## Mount google drive\n",
        "\n",
        "### Subtask:\n",
        "Connect your Google Drive to the Colab environment.\n"
      ]
    },
    {
      "cell_type": "markdown",
      "metadata": {
        "id": "d307e10a"
      },
      "source": [
        "**Reasoning**:\n",
        "The subtask is to connect Google Drive to the Colab environment. This requires importing the `drive` module from `google.colab` and calling the `mount()` function.\n",
        "\n"
      ]
    },
    {
      "cell_type": "code",
      "metadata": {
        "id": "8cae43ee"
      },
      "source": [
        "from google.colab import drive"
      ],
      "execution_count": 15,
      "outputs": []
    },
    {
      "cell_type": "markdown",
      "metadata": {
        "id": "216e5042"
      },
      "source": [
        "## Copy the model file\n",
        "\n",
        "### Subtask:\n",
        "Copy the saved model file from the Colab file system to your Google Drive.\n"
      ]
    },
    {
      "cell_type": "markdown",
      "metadata": {
        "id": "9b9fc47d"
      },
      "source": [
        "**Reasoning**:\n",
        "Copy the saved model file from the Colab file system to Google Drive.\n",
        "\n"
      ]
    },
    {
      "cell_type": "code",
      "metadata": {
        "colab": {
          "base_uri": "https://localhost:8080/"
        },
        "id": "a80f4f3b",
        "outputId": "2d947154-54f8-49f6-d076-0ba1b7db1ccd"
      },
      "source": [
        "import shutil\n",
        "\n",
        "# Define source and destination paths\n",
        "source_path = MODEL_SAVE_PATH\n",
        "destination_path = '/content/drive/MyDrive/my_models/01_pytorch_workflow_model_1.pth'\n",
        "\n",
        "# Ensure the destination directory exists\n",
        "destination_dir = Path(destination_path).parent\n",
        "destination_dir.mkdir(parents=True, exist_ok=True)\n",
        "\n",
        "# Copy the file\n",
        "shutil.copy(source_path, destination_path)\n",
        "\n",
        "print(f\"Model saved to Google Drive at: {destination_path}\")"
      ],
      "execution_count": 18,
      "outputs": [
        {
          "output_type": "stream",
          "name": "stdout",
          "text": [
            "Model saved to Google Drive at: /content/drive/MyDrive/my_models/01_pytorch_workflow_model_1.pth\n"
          ]
        }
      ]
    },
    {
      "cell_type": "markdown",
      "metadata": {
        "id": "8f51334e"
      },
      "source": [
        "## Verify the file in google drive\n",
        "\n",
        "### Subtask:\n",
        "Check your Google Drive to confirm the file has been successfully copied.\n"
      ]
    },
    {
      "cell_type": "markdown",
      "metadata": {
        "id": "5cf553f4"
      },
      "source": [
        "**Reasoning**:\n",
        "Use a shell command to list the contents of the destination directory in Google Drive to confirm the file was copied successfully.\n",
        "\n"
      ]
    },
    {
      "cell_type": "code",
      "metadata": {
        "colab": {
          "base_uri": "https://localhost:8080/"
        },
        "id": "9199e35a",
        "outputId": "abdefa42-ce94-4cc5-f8bc-1f53e28e4b55"
      },
      "source": [
        "!ls -l /content/drive/MyDrive/my_models/"
      ],
      "execution_count": 19,
      "outputs": [
        {
          "output_type": "stream",
          "name": "stdout",
          "text": [
            "total 4\n",
            "-rw------- 1 root root 1680 Jun 19 17:04 01_pytorch_workflow_model_0.pth\n",
            "-rw------- 1 root root 1744 Jun 20 00:30 01_pytorch_workflow_model_1.pth\n"
          ]
        }
      ]
    },
    {
      "cell_type": "markdown",
      "metadata": {
        "id": "f3c4820c"
      },
      "source": [
        "## Summary:\n",
        "\n",
        "### Data Analysis Key Findings\n",
        "\n",
        "*   The Google Drive was successfully mounted at `/content/drive`.\n",
        "*   The model file was successfully copied from the Colab file system to the specified location in Google Drive: `/content/drive/MyDrive/my_models/01_pytorch_workflow_model_0.pth`.\n",
        "*   The presence of the model file in the Google Drive directory was confirmed by listing the directory contents.\n",
        "\n",
        "### Insights or Next Steps\n",
        "\n",
        "*   The process successfully demonstrates how to save a model from a Colab environment to Google Drive for persistent storage and accessibility.\n"
      ]
    }
  ]
}