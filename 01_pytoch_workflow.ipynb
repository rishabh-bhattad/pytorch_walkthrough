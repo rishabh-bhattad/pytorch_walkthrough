{
  "nbformat": 4,
  "nbformat_minor": 0,
  "metadata": {
    "colab": {
      "provenance": [],
      "authorship_tag": "ABX9TyMYN5/ukUHbzFUcKuBLIluc"
    },
    "kernelspec": {
      "name": "python3",
      "display_name": "Python 3"
    },
    "language_info": {
      "name": "python"
    }
  },
  "cells": [
    {
      "cell_type": "code",
      "execution_count": 1,
      "metadata": {
        "id": "f7eZQhEz6IML",
        "colab": {
          "base_uri": "https://localhost:8080/"
        },
        "outputId": "cef71811-354b-44f8-a41d-e75d70a9147e"
      },
      "outputs": [
        {
          "output_type": "execute_result",
          "data": {
            "text/plain": [
              "{1: 'data (prepare and load)',\n",
              " 2: 'build model',\n",
              " 3: 'fitting model',\n",
              " 4: 'make predictions and evaluating',\n",
              " 5: 'saving and loading a model',\n",
              " 6: 'putting it all together'}"
            ]
          },
          "metadata": {},
          "execution_count": 1
        }
      ],
      "source": [
        "topics_covered_in_here = {\n",
        "    1: \"data (prepare and load)\",\n",
        "    2: \"build model\",\n",
        "    3: \"fitting model\",\n",
        "    4: \"make predictions and evaluating\",\n",
        "    5: \"saving and loading a model\",\n",
        "    6: \"putting it all together\"\n",
        "}\n",
        "\n",
        "topics_covered_in_here"
      ]
    },
    {
      "cell_type": "code",
      "source": [
        "import torch\n",
        "from torch import nn # nn contains all the building blocks for Neural Networks\n",
        "import matplotlib.pyplot as plt\n",
        "\n",
        "torch.__version__"
      ],
      "metadata": {
        "colab": {
          "base_uri": "https://localhost:8080/",
          "height": 36
        },
        "id": "tNRQ7-daBXwQ",
        "outputId": "5f5ae9ed-47ac-44fc-99cd-0d26dfe909e7"
      },
      "execution_count": 2,
      "outputs": [
        {
          "output_type": "execute_result",
          "data": {
            "text/plain": [
              "'2.6.0+cu124'"
            ],
            "application/vnd.google.colaboratory.intrinsic+json": {
              "type": "string"
            }
          },
          "metadata": {},
          "execution_count": 2
        }
      ]
    },
    {
      "cell_type": "markdown",
      "source": [
        "## 1. Data (preparing and loading)\n",
        "\n",
        "Can be spreadsheets, images, videos, audio, DNA, text etc.\n",
        "\n",
        "ML is a game of 2 parts:\n",
        "1. Get data into numerical representation\n",
        "2. Build model to learn patterns in that numerical representations\n",
        "\n",
        "To showcase these, creating some known data using linear regression"
      ],
      "metadata": {
        "id": "4oty3OwCBzg2"
      }
    },
    {
      "cell_type": "code",
      "source": [
        "# Parameters *known*\n",
        "weight = 0.7\n",
        "bias = 0.3\n",
        "\n",
        "# creating data\n",
        "start = 0\n",
        "end = 1\n",
        "step = 0.02\n",
        "X = torch.arange(start, end, step).unsqueeze(dim=1)\n",
        "y = weight * X + bias\n",
        "X[:10], y[:10]"
      ],
      "metadata": {
        "colab": {
          "base_uri": "https://localhost:8080/"
        },
        "id": "jwl5ExkECWA6",
        "outputId": "0106666b-18e9-459f-cf52-5f1362d30ea3"
      },
      "execution_count": 3,
      "outputs": [
        {
          "output_type": "execute_result",
          "data": {
            "text/plain": [
              "(tensor([[0.0000],\n",
              "         [0.0200],\n",
              "         [0.0400],\n",
              "         [0.0600],\n",
              "         [0.0800],\n",
              "         [0.1000],\n",
              "         [0.1200],\n",
              "         [0.1400],\n",
              "         [0.1600],\n",
              "         [0.1800]]),\n",
              " tensor([[0.3000],\n",
              "         [0.3140],\n",
              "         [0.3280],\n",
              "         [0.3420],\n",
              "         [0.3560],\n",
              "         [0.3700],\n",
              "         [0.3840],\n",
              "         [0.3980],\n",
              "         [0.4120],\n",
              "         [0.4260]]))"
            ]
          },
          "metadata": {},
          "execution_count": 3
        }
      ]
    },
    {
      "cell_type": "code",
      "source": [
        "len(X), len(y)"
      ],
      "metadata": {
        "colab": {
          "base_uri": "https://localhost:8080/"
        },
        "id": "evG-QLejDkkE",
        "outputId": "17251572-43db-4654-a7b3-de0f9335b7f5"
      },
      "execution_count": 4,
      "outputs": [
        {
          "output_type": "execute_result",
          "data": {
            "text/plain": [
              "(50, 50)"
            ]
          },
          "metadata": {},
          "execution_count": 4
        }
      ]
    },
    {
      "cell_type": "markdown",
      "source": [
        "### Splitting data into training and test sets"
      ],
      "metadata": {
        "id": "ojnIkfEWDxcf"
      }
    },
    {
      "cell_type": "code",
      "source": [
        "# train-test- split\n",
        "train_split = int(0.8 * len(X))\n",
        "X_train, y_train = X[:train_split], y[:train_split]\n",
        "X_test, y_test = X[train_split:], y[train_split:]\n",
        "\n",
        "len(X_train), len(y_train), len(X_test), len(y_test)"
      ],
      "metadata": {
        "colab": {
          "base_uri": "https://localhost:8080/"
        },
        "id": "7hNV3c-tEkMP",
        "outputId": "969dd0a3-8e57-47e2-b3c1-de14fdf3092a"
      },
      "execution_count": 5,
      "outputs": [
        {
          "output_type": "execute_result",
          "data": {
            "text/plain": [
              "(40, 40, 10, 10)"
            ]
          },
          "metadata": {},
          "execution_count": 5
        }
      ]
    },
    {
      "cell_type": "code",
      "source": [
        "def plot_predictions(train_data=X_train,\n",
        "                     train_labels=y_train,\n",
        "                     test_data=X_test,\n",
        "                     test_labels=y_test,\n",
        "                     predictions=None):\n",
        "  \"\"\"\n",
        "  Plots training data, test data and compares predictions.\n",
        "  \"\"\"\n",
        "  plt.figure(figsize=(10, 7))\n",
        "\n",
        "  # Plot training data in blue\n",
        "  plt.scatter(train_data, train_labels, c=\"b\", s=4, label=\"Training data\")\n",
        "\n",
        "  # Plot test data in green\n",
        "  plt.scatter(test_data, test_labels, c=\"g\", s=4, label=\"Testing data\")\n",
        "\n",
        "  if predictions is not None:\n",
        "    # Plot the predictions in red (predictions were made on the test data)\n",
        "    plt.scatter(test_data, predictions, c=\"r\", s=4, label=\"Predictions\")\n",
        "\n",
        "  # Show the legend\n",
        "  plt.legend(prop={\"size\": 14});"
      ],
      "metadata": {
        "id": "MIPNCk6yFLZa"
      },
      "execution_count": 6,
      "outputs": []
    },
    {
      "cell_type": "code",
      "source": [
        "plot_predictions();"
      ],
      "metadata": {
        "colab": {
          "base_uri": "https://localhost:8080/",
          "height": 599
        },
        "id": "g5Uf_dU3FcvR",
        "outputId": "46185aa1-c609-4803-fc80-4461ed1f8aa1"
      },
      "execution_count": 7,
      "outputs": [
        {
          "output_type": "display_data",
          "data": {
            "text/plain": [
              "<Figure size 1000x700 with 1 Axes>"
            ],
            "image/png": "[encoded data removed]"
          },
          "metadata": {}
        }
      ]
    },
    {
      "cell_type": "markdown",
      "source": [
        "## 2. Build model\n",
        "\n",
        "What our model does is it starts with random values (weight and bias) and then look at training data and adjust the weight and bias to better represent (or get closer to) the ideal values (the weight and bias values we used to create the data)\n",
        "\n",
        "how does it do so:\n",
        "two main algorithms:\n",
        "1. Gradient descent\n",
        "2. Backpropogation"
      ],
      "metadata": {
        "id": "uTKN70J2Fssq"
      }
    },
    {
      "cell_type": "code",
      "source": [
        "# creating linear regression model class\n",
        "\n",
        "class LinearRegressionModel(nn.Module): # <- almost everything in PyTorch inherits from nn.Module\n",
        "  def __init__(self) -> None:\n",
        "    super().__init__()\n",
        "    self.weights = nn.Parameter(torch.randn(1, # start with a random weight\n",
        "                                            requires_grad=True, # can this parameter be updated via gradient descent?\n",
        "                                            dtype=torch.float))\n",
        "    self.bias = nn.Parameter(torch.randn(1, # start with a random bias\n",
        "                                         requires_grad=True, # can this parameter be updated via gradient descent?\n",
        "                                         dtype=torch.float))\n",
        "\n",
        "    # Require forward method to be overridden\n",
        "    # Forward method to define the computation in the model\n",
        "  def forward(self, x: torch.Tensor) -> torch.Tensor: # x is the input data\n",
        "    return self.weights * x + self.bias # y = mx + c"
      ],
      "metadata": {
        "id": "PD3MvlMfGMaU"
      },
      "execution_count": 8,
      "outputs": []
    },
    {
      "cell_type": "markdown",
      "source": [
        "### PyTorch model building essentials\n",
        "\n",
        "* torch.nn - contains all the buildings for computational graph (a NN can be considered a computational graph)\n",
        "* torch.nn.Parameter - what parametrs should our model try and learn, often PyTorch layer from torch.nn wil set these for us\n",
        "* torch.nn.Module - The base class for all NN modules, if you inherit it, must override forward() method\n",
        "* torch.optim - this is where optimizers in PyTorch are, they will help with gradient descent"
      ],
      "metadata": {
        "id": "QdiRf0maZmbe"
      }
    },
    {
      "cell_type": "code",
      "source": [
        "# Creating a random seed\n",
        "torch.manual_seed(42)\n",
        "\n",
        "# create an instance of the model we created\n",
        "model_0 = LinearRegressionModel()\n",
        "\n",
        "# checking parameters\n",
        "list(model_0.parameters())"
      ],
      "metadata": {
        "colab": {
          "base_uri": "https://localhost:8080/"
        },
        "id": "hDLiV4pxciXq",
        "outputId": "dd722ed0-5b28-45a0-d590-ae48fe3fd266"
      },
      "execution_count": 9,
      "outputs": [
        {
          "output_type": "execute_result",
          "data": {
            "text/plain": [
              "[Parameter containing:\n",
              " tensor([0.3367], requires_grad=True),\n",
              " Parameter containing:\n",
              " tensor([0.1288], requires_grad=True)]"
            ]
          },
          "metadata": {},
          "execution_count": 9
        }
      ]
    },
    {
      "cell_type": "code",
      "source": [
        "# List named parameters\n",
        "model_0.state_dict()"
      ],
      "metadata": {
        "colab": {
          "base_uri": "https://localhost:8080/"
        },
        "id": "MQVxIvy6c8f2",
        "outputId": "696e2342-125e-478e-ae18-7c28bc978bab"
      },
      "execution_count": 10,
      "outputs": [
        {
          "output_type": "execute_result",
          "data": {
            "text/plain": [
              "OrderedDict([('weights', tensor([0.3367])), ('bias', tensor([0.1288]))])"
            ]
          },
          "metadata": {},
          "execution_count": 10
        }
      ]
    },
    {
      "cell_type": "markdown",
      "source": [
        "### Making prediction using `torch.inference_mode()`\n",
        "\n",
        "To check our model's predictive power\n",
        "\n",
        "When we pass data to the model, its going to run it through forward method"
      ],
      "metadata": {
        "id": "-rfbU_Wnc9i-"
      }
    },
    {
      "cell_type": "code",
      "source": [
        "# make predictions with model - without trainig\n",
        "with torch.inference_mode(): # inference_mode doesn't track gradient. Because when making predictions you dont need to track gradient to update it later.\n",
        "  y_preds = model_0(X_test)\n",
        "\n",
        "\n",
        "# We can also do something similar with with torch.no_grad(), but inference_mode() is preferred\n",
        "y_preds"
      ],
      "metadata": {
        "colab": {
          "base_uri": "https://localhost:8080/"
        },
        "id": "d18fu54xeGU6",
        "outputId": "9180837f-b001-4893-d9be-3daa5d05a3ad"
      },
      "execution_count": 11,
      "outputs": [
        {
          "output_type": "execute_result",
          "data": {
            "text/plain": [
              "tensor([[0.3982],\n",
              "        [0.4049],\n",
              "        [0.4116],\n",
              "        [0.4184],\n",
              "        [0.4251],\n",
              "        [0.4318],\n",
              "        [0.4386],\n",
              "        [0.4453],\n",
              "        [0.4520],\n",
              "        [0.4588]])"
            ]
          },
          "metadata": {},
          "execution_count": 11
        }
      ]
    },
    {
      "cell_type": "code",
      "source": [
        "plot_predictions(predictions=y_preds)"
      ],
      "metadata": {
        "colab": {
          "base_uri": "https://localhost:8080/",
          "height": 599
        },
        "id": "nA2kDKo9eagG",
        "outputId": "47afe233-5a7a-4356-c8c0-d094c9099a89"
      },
      "execution_count": 12,
      "outputs": [
        {
          "output_type": "display_data",
          "data": {
            "text/plain": [
              "<Figure size 1000x700 with 1 Axes>"
            ],
            "image/png": "[encoded data removed]"
          },
          "metadata": {}
        }
      ]
    },
    {
      "cell_type": "markdown",
      "source": [
        "### 3. Training the model\n",
        "\n",
        "The whole idea is to to train a model from unknown paramters to to parameters which better represent the data.\n",
        "\n",
        "Things needed to trian the data:\n",
        "* Loss function\n",
        "* Optimizer\n",
        "\n",
        "Specifically for PyTorch, we need:\n",
        "* A training loop\n",
        "* A testing loop"
      ],
      "metadata": {
        "id": "-ifKhjf9_cqN"
      }
    },
    {
      "cell_type": "code",
      "source": [
        "list(model_0.parameters())"
      ],
      "metadata": {
        "colab": {
          "base_uri": "https://localhost:8080/"
        },
        "id": "LL-KAmW-BCa7",
        "outputId": "a1f1c43d-2101-4b77-9572-4a42592369df"
      },
      "execution_count": 13,
      "outputs": [
        {
          "output_type": "execute_result",
          "data": {
            "text/plain": [
              "[Parameter containing:\n",
              " tensor([0.3367], requires_grad=True),\n",
              " Parameter containing:\n",
              " tensor([0.1288], requires_grad=True)]"
            ]
          },
          "metadata": {},
          "execution_count": 13
        }
      ]
    },
    {
      "cell_type": "code",
      "source": [
        "model_0.state_dict()"
      ],
      "metadata": {
        "colab": {
          "base_uri": "https://localhost:8080/"
        },
        "id": "14RrhCePBqKg",
        "outputId": "34c9288a-89d6-454d-ecb8-32361a905f3c"
      },
      "execution_count": 14,
      "outputs": [
        {
          "output_type": "execute_result",
          "data": {
            "text/plain": [
              "OrderedDict([('weights', tensor([0.3367])), ('bias', tensor([0.1288]))])"
            ]
          },
          "metadata": {},
          "execution_count": 14
        }
      ]
    },
    {
      "cell_type": "code",
      "source": [
        "# setup a loss func\n",
        "loss_fn = nn.L1Loss()\n",
        "\n",
        "# setup an optimizer (stochastic gradient descent)\n",
        "optimizer = torch.optim.SGD(params=model_0.parameters(), lr = 0.01) # lr = learning rate = hyperparameter (set by us)"
      ],
      "metadata": {
        "id": "vEUeD7BaB8he"
      },
      "execution_count": 15,
      "outputs": []
    },
    {
      "cell_type": "markdown",
      "source": [
        "#### Building a training loop and testing in loop in PyTorch\n",
        "\n",
        "0. Loop through the data\n",
        "1. forward pass (this invlovesdata moving through our model's `forward()` functions to make predictions - called forward propogation)\n",
        "2. Calculate the loss (compare forward pass predictions to ground tructh labels)\n",
        "3. Optimizier zero grad\n",
        "4. Loss backward - move backwards through the network to calculate the gradients of each paramter of ou model with respect to the loss\n",
        "5. Optimizer step - use the optimizer to adjust adjust our model parameters to try and improve the loss"
      ],
      "metadata": {
        "id": "Aw3mOOUYIaHX"
      }
    },
    {
      "cell_type": "code",
      "source": [
        "# An epoch is one loop through the data\n",
        "epochs = 200\n",
        "\n",
        "# Tracking different values\n",
        "epoch_count = []\n",
        "loss_values = []\n",
        "test_loss_values = []\n",
        "\n",
        "### Training\n",
        "# loop through the data:\n",
        "for epoch in range(epochs):\n",
        "  # set the model to training mode\n",
        "  model_0.train() # train mode in PyTorch sets all paramaters that require gradients to require gradients. require_grad=True\n",
        "\n",
        "  # 1. Forward pass\n",
        "  y_pred = model_0(X_train)\n",
        "\n",
        "  # 2. Calculate the loss\n",
        "  loss = loss_fn(y_pred, y_train)\n",
        "  # print(f\"Loss: {loss}\")\n",
        "\n",
        "  # 3. Optimizer zero grad\n",
        "  optimizer.zero_grad()\n",
        "\n",
        "  # 4. Perform Backpropogation on the loss with respect to the parameter of the model\n",
        "  loss.backward()\n",
        "\n",
        "  # 5. Step the optimizer (perform gradient descent)\n",
        "  optimizer.step() # by default the how the optimizer changes will accumulate through the loop so we have to zero them above in step 3 for the next iteration of the loop\n",
        "\n",
        "  ### Testing\n",
        "  model_0.eval() # turns off different settings in model which are not needed for evaluation/testing (dropout/batchnorm layers)\n",
        "  with torch.inference_mode(): # turns off gradient_descent and more things behind the scene\n",
        "    # 1. Forward pass on test data\n",
        "    test_pred = model_0(X_test)\n",
        "\n",
        "    # 2. Calculate loss on test_pred vs y_test\n",
        "    test_loss = loss_fn(test_pred, y_test)\n",
        "\n",
        "  # Print out what happened\n",
        "  if epoch % 10 == 0:\n",
        "    epoch_count.append(epoch)\n",
        "    loss_values.append(loss)\n",
        "    test_loss_values.append(test_loss)\n",
        "    print(f\"Epoch : {epoch}, Loss: {loss}, Test Loss: {test_loss}\")\n",
        "    print(model_0.state_dict())"
      ],
      "metadata": {
        "colab": {
          "base_uri": "https://localhost:8080/"
        },
        "id": "Xe2-VI5nLPAc",
        "outputId": "a963f78f-711a-461e-e207-c473e11a9045"
      },
      "execution_count": 18,
      "outputs": [
        {
          "output_type": "stream",
          "name": "stdout",
          "text": [
            "Epoch : 0, Loss: 0.28983935713768005, Test Loss: 0.4541231691837311\n",
            "OrderedDict([('weights', tensor([0.3484])), ('bias', tensor([0.1588]))])\n",
            "Epoch : 10, Loss: 0.1746293306350708, Test Loss: 0.3194132149219513\n",
            "OrderedDict([('weights', tensor([0.3874])), ('bias', tensor([0.2588]))])\n",
            "Epoch : 20, Loss: 0.07638873159885406, Test Loss: 0.19773726165294647\n",
            "OrderedDict([('weights', tensor([0.4258])), ('bias', tensor([0.3463]))])\n",
            "Epoch : 30, Loss: 0.05069301277399063, Test Loss: 0.13647659122943878\n",
            "OrderedDict([('weights', tensor([0.4564])), ('bias', tensor([0.3803]))])\n",
            "Epoch : 40, Loss: 0.04463795945048332, Test Loss: 0.1100495308637619\n",
            "OrderedDict([('weights', tensor([0.4788])), ('bias', tensor([0.3868]))])\n",
            "Epoch : 50, Loss: 0.04098063334822655, Test Loss: 0.09699545800685883\n",
            "OrderedDict([('weights', tensor([0.4974])), ('bias', tensor([0.3833]))])\n",
            "Epoch : 60, Loss: 0.0375034399330616, Test Loss: 0.08666229248046875\n",
            "OrderedDict([('weights', tensor([0.5152])), ('bias', tensor([0.3778]))])\n",
            "Epoch : 70, Loss: 0.03407188132405281, Test Loss: 0.07907666265964508\n",
            "OrderedDict([('weights', tensor([0.5322])), ('bias', tensor([0.3703]))])\n",
            "Epoch : 80, Loss: 0.030638623982667923, Test Loss: 0.07080408930778503\n",
            "OrderedDict([('weights', tensor([0.5493])), ('bias', tensor([0.3633]))])\n",
            "Epoch : 90, Loss: 0.027199819684028625, Test Loss: 0.06253156810998917\n",
            "OrderedDict([('weights', tensor([0.5665])), ('bias', tensor([0.3563]))])\n",
            "Epoch : 100, Loss: 0.02376994863152504, Test Loss: 0.05494590476155281\n",
            "OrderedDict([('weights', tensor([0.5834])), ('bias', tensor([0.3488]))])\n",
            "Epoch : 110, Loss: 0.02033500373363495, Test Loss: 0.046673357486724854\n",
            "OrderedDict([('weights', tensor([0.6006])), ('bias', tensor([0.3418]))])\n",
            "Epoch : 120, Loss: 0.016896454617381096, Test Loss: 0.0390876941382885\n",
            "OrderedDict([('weights', tensor([0.6175])), ('bias', tensor([0.3343]))])\n",
            "Epoch : 130, Loss: 0.013468016870319843, Test Loss: 0.030815154314041138\n",
            "OrderedDict([('weights', tensor([0.6347])), ('bias', tensor([0.3273]))])\n",
            "Epoch : 140, Loss: 0.010031387209892273, Test Loss: 0.022542614489793777\n",
            "OrderedDict([('weights', tensor([0.6519])), ('bias', tensor([0.3203]))])\n",
            "Epoch : 150, Loss: 0.006594526115804911, Test Loss: 0.01495695672929287\n",
            "OrderedDict([('weights', tensor([0.6688])), ('bias', tensor([0.3128]))])\n",
            "Epoch : 160, Loss: 0.0031660839449614286, Test Loss: 0.006684416439384222\n",
            "OrderedDict([('weights', tensor([0.6860])), ('bias', tensor([0.3058]))])\n",
            "Epoch : 170, Loss: 0.008932482451200485, Test Loss: 0.005023092031478882\n",
            "OrderedDict([('weights', tensor([0.6951])), ('bias', tensor([0.2993]))])\n",
            "Epoch : 180, Loss: 0.008932482451200485, Test Loss: 0.005023092031478882\n",
            "OrderedDict([('weights', tensor([0.6951])), ('bias', tensor([0.2993]))])\n",
            "Epoch : 190, Loss: 0.008932482451200485, Test Loss: 0.005023092031478882\n",
            "OrderedDict([('weights', tensor([0.6951])), ('bias', tensor([0.2993]))])\n"
          ]
        }
      ]
    },
    {
      "cell_type": "code",
      "source": [
        "import numpy as np\n",
        "np.array(torch.tensor(loss_values).cpu().numpy())"
      ],
      "metadata": {
        "colab": {
          "base_uri": "https://localhost:8080/"
        },
        "id": "Bw8iEwlMBxcg",
        "outputId": "74be2af0-15f4-4c3f-98cf-4419cb71adfb"
      },
      "execution_count": 24,
      "outputs": [
        {
          "output_type": "execute_result",
          "data": {
            "text/plain": [
              "array([0.28983936, 0.17462933, 0.07638873, 0.05069301, 0.04463796,\n",
              "       0.04098063, 0.03750344, 0.03407188, 0.03063862, 0.02719982,\n",
              "       0.02376995, 0.020335  , 0.01689645, 0.01346802, 0.01003139,\n",
              "       0.00659453, 0.00316608, 0.00893248, 0.00893248, 0.00893248],\n",
              "      dtype=float32)"
            ]
          },
          "metadata": {},
          "execution_count": 24
        }
      ]
    },
    {
      "cell_type": "code",
      "source": [
        "# plot the loss curves\n",
        "plt.plot(epoch_count, np.array(torch.tensor(loss_values).numpy()), label = \"Train Loss\")\n",
        "plt.plot(epoch_count, test_loss_values, label = \"Test Loss\")\n",
        "plt.title(\"Training and test loss curves\")\n",
        "plt.xlabel(\"Epochs\")\n",
        "plt.ylabel(\"Loss\")\n",
        "plt.legend();"
      ],
      "metadata": {
        "colab": {
          "base_uri": "https://localhost:8080/",
          "height": 472
        },
        "id": "c9EdTGfLBTsH",
        "outputId": "46e79465-3533-4783-ae0e-316627ef2d54"
      },
      "execution_count": 25,
      "outputs": [
        {
          "output_type": "display_data",
          "data": {
            "text/plain": [
              "<Figure size 640x480 with 1 Axes>"
            ],
            "image/png": "[encoded data removed]"
          },
          "metadata": {}
        }
      ]
    },
    {
      "cell_type": "code",
      "source": [
        "with torch.inference_mode():\n",
        "  y_preds_new = model_0(X_test)"
      ],
      "metadata": {
        "id": "1fJWdee0OLfd"
      },
      "execution_count": 19,
      "outputs": []
    },
    {
      "cell_type": "code",
      "source": [
        "model_0.state_dict()"
      ],
      "metadata": {
        "colab": {
          "base_uri": "https://localhost:8080/"
        },
        "id": "dTIKvyL9gyJT",
        "outputId": "3bd35999-608a-42a0-c4ea-1fa0c88d6af3"
      },
      "execution_count": 20,
      "outputs": [
        {
          "output_type": "execute_result",
          "data": {
            "text/plain": [
              "OrderedDict([('weights', tensor([0.6990])), ('bias', tensor([0.3093]))])"
            ]
          },
          "metadata": {},
          "execution_count": 20
        }
      ]
    },
    {
      "cell_type": "code",
      "source": [
        "weight, bias"
      ],
      "metadata": {
        "colab": {
          "base_uri": "https://localhost:8080/"
        },
        "id": "ECRnNphRg0bE",
        "outputId": "ee170201-a517-401b-daf0-e138234eafdc"
      },
      "execution_count": 21,
      "outputs": [
        {
          "output_type": "execute_result",
          "data": {
            "text/plain": [
              "(0.7, 0.3)"
            ]
          },
          "metadata": {},
          "execution_count": 21
        }
      ]
    },
    {
      "cell_type": "code",
      "source": [
        "plot_predictions(predictions=y_preds_new)"
      ],
      "metadata": {
        "colab": {
          "base_uri": "https://localhost:8080/",
          "height": 599
        },
        "id": "sSv7vx_qmqXi",
        "outputId": "077e16f0-9664-4f54-da3c-9ca63f646ea6"
      },
      "execution_count": 22,
      "outputs": [
        {
          "output_type": "display_data",
          "data": {
            "text/plain": [
              "<Figure size 1000x700 with 1 Axes>"
            ],
            "image/png": "[encoded data removed]"
          },
          "metadata": {}
        }
      ]
    },
    {
      "cell_type": "code",
      "source": [],
      "metadata": {
        "id": "m1hzpFw1mvCh"
      },
      "execution_count": null,
      "outputs": []
    }
  ]
}